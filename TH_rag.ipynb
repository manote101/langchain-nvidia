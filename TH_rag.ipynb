{
 "cells": [
  {
   "cell_type": "code",
   "execution_count": 1,
   "metadata": {
    "tags": []
   },
   "outputs": [],
   "source": [
    "import os\n",
    "\n",
    "from dotenv import load_dotenv, find_dotenv\n",
    "load_dotenv(find_dotenv()) # read .env file\n",
    "apikey = os.getenv('NVIDIA_API_KEY')"
   ]
  },
  {
   "cell_type": "markdown",
   "metadata": {},
   "source": [
    "# A Gentle Introduction to RAG Applications\n",
    "\n",
    "This notebook creates a simple RAG (Retrieval-Augmented Generation) system to answer questions from a PDF document using an open-source model."
   ]
  },
  {
   "cell_type": "code",
   "execution_count": 2,
   "metadata": {
    "tags": []
   },
   "outputs": [],
   "source": [
    "# download BOT 2566 annual report from https://www.bot.or.th/content/dam/bot/documents/th/thai-economy/state-of-thai-economy/annual-report/annual-econ-report-th-2566.pdf\n",
    "\n",
    "PDF_FILE = \"llm/labs/LangChain/annual-econ-report-th-2566.pdf\""
   ]
  },
  {
   "cell_type": "code",
   "execution_count": 3,
   "metadata": {
    "tags": []
   },
   "outputs": [
    {
     "name": "stdout",
     "output_type": "stream",
     "text": [
      "-rw-r--r-- 1 gable-test gable-test 342845 Aug 18 03:29 llm/labs/LangChain/annual-econ-report-th-2566.pdf\n"
     ]
    }
   ],
   "source": [
    "!ls -l llm/labs/LangChain/annual-econ-report-th-2566.pdf"
   ]
  },
  {
   "cell_type": "markdown",
   "metadata": {},
   "source": [
    "## Loading the PDF document\n",
    "\n",
    "Let's start by loading the PDF document and breaking it down into separate pages.\n",
    "\n",
    "<img src='images/documents.png' width=\"1000\">"
   ]
  },
  {
   "cell_type": "code",
   "execution_count": 4,
   "metadata": {
    "tags": []
   },
   "outputs": [
    {
     "name": "stdout",
     "output_type": "stream",
     "text": [
      "Number of pages: 7\n",
      "Length of a page: 2988\n",
      "Content of a page:  \n",
      " \n",
      "1 \n",
      " สรุปภาวะเศรษฐกิจการเงินต่างประเทศและไทย ปี 2566 และแนวโน้ม  \n",
      "เศรษฐกิจต่างประเทศปี 2566 และแนวโน้ม  \n",
      "เศรษฐกิจโลกปี 256 6 ขยายตัวในอัตราที่ชะลอลงจากปีก่อน โดยการบริโภคภาคเอกชน  \n",
      "โดยเฉพาะภาคบริการ ยังเป็นแรงขับเคลื่อนเศรษฐกิจที่สำคัญในหลายประเทศ จากการผ่อนคลายมาตรการ\n",
      "ควบคุมการเดินทางระหว่างประเทศ และนโยบายการเปิดประเทศของจีน ในช่วงต้นปี  ขณะที่ปริมาณการค้า\n",
      "โลกที่ชะลอตัว ส่งผลให้การผลิตภาคอุตสาหกรรมและการส่งออกสินค้าใน หลายประเทศ โดยเฉพาะกลุ่ม\n",
      "ประเทศเอเชีย ชะลอลง ซึ่งเป็นผลจาก  (1) การดำเนินนโยบายการเงินที่เข้มงวดของธนาคารกลาง หลาย\n",
      "ประเทศเพื่อดูแลเงินเฟ้อที่มีแนวโน้มทรงตัวในระดับสูงนานกว่าคาด ซึ่งส่งผลให้สถาบันการเงินบางแห่งใน\n",
      "สหรัฐฯ และยุโรปประสบปัญหาด้านสภาพคล่อง ในไตรมาส 1 อย่างไรก็ดี ผลต่อเศรษฐกิจและการเงินโลก\n",
      "ค่อนข้างจำกัด เนื่องจากทางการได้ดำเนินมาตรการสกัดผลกระทบที่จะลุกลามเป็นวงกว้างได้อย่างรวดเร็ว \n",
      "อาทิ การค้ำประกันเงินฝาก และการตั้งกองทุนเพื่อเสริมสภาพคล่องแก่สถาบันการเงิน เป็นต้น  (2) การฟื้นตัว\n",
      "ของเศรษฐกิจจีนที่เป็นไปอย่างล่าช้าเนื่องจาก ภาคอสังหาริมทรัพย์ อยู่ในภาวะชะลอตัว  (3) สินค้าคงคลังยังอยู่\n",
      "ในระดับสูง  เนื่องจากธุรกิจเร่งสะสมสินค้าคงคลังในช่วงการระบาดของ COVID -19 ที่มีปัญหาขาดแคลน\n",
      "วัตถุดิบและปัญหาการขนส่งสินค้าที่ใช้ระยะเวลานาน  และ (4) ปัญหาความขัดแย้งทาง ภูมิรัฐศาสตร์ \n",
      "โดยเฉพาะการกีดกันทางการค้า และการพัฒนาอุตสาหกรรมด้านเทคโนโลยี ระหว่างจีนกับสหรัฐฯ ที่ มีต่อเนื่อง \n",
      "รวมทั้งความขัดแย้งระหว่างรัสเซียและยูเครนที่ยังคงยืดเยื้อ  อย่างไรก็ดี ปริมาณการค้าโลกมีทิศทางปรับดีขึ้น\n",
      "ในช่วงไตรมาสสุดท้ายของปี 2566 ตามการส่งออกสินค้าอิเล็กทรอนิกส์ของเอเชีย  อาทิ เกาหลีใต้ และไต้หวัน \n",
      "ที่ทยอยฟื้นตัว แม้เศรษฐกิจโลกจะเผชิญกับความไม่แน่นอนที่สูงขึ้นจาก สงครามระหว่างอิสราเอลและกลุ่ม  \n",
      "ฮามาสในช่วงท้ายของปี  \n",
      "ในปี 2567 เศรษฐกิจโลกมีแนวโน้ม ขยายตัวต่อเนื่อง จากแรงขับเคลื่อนที่สมดุลมากขึ้นระหว่าง\n",
      "ภาคบริการที่ยังมีแนวโน้มขยายตัว และการค้า และการผลิตที่กลับมาฟื้นตัว ประกอบกับอัตราเงินเฟ้อใน\n",
      "หลายประเทศที่ลดลง ตามทิศทางราคาพลังงานและสินค้าโภคภัณฑ์  จะส่งผลให้นโยบายการเงิน มีโอกาสลด\n",
      "ความตึงตัวลงได้บ้าง  โดยปริมาณการค้าโลกจะกลับมาขยายตัวดีขึ้น ส่วนหนึ่ง ตามการฟื้นตัวของ วัฏจักร\n",
      "อิเล็กทรอนิกส์ของโลก  และแนวโน้มกลับมาสะสมสินค้าคงคลัง หลังระดับสินค้าคงคลัง ได้ปรับลดลงมาก \n",
      "อย่างไรก็ตาม เศรษฐกิจโลกในปี 2567 ยังเผชิญกับความท้าทายในหลายมิติ และตลาดการเงินยังอาจผันผวนสูง  \n",
      "เนื่องจาก (1) ความขัดแย้งทาง ภูมิรัฐศาสตร์ในหลายพื้นที่ (2) การเลือกตั้งที่จะเกิดขึ้นในหลายประเทศซึ่งจะมี\n",
      "นัยต่อเศรษฐกิจ ทิศทางนโยบายสำคัญ  และภูมิรัฐศาสตร์โลก และ (3) การปรับนโยบายการเงินของธนาคาร\n",
      "กลางหลัก  \n",
      "เศรษฐกิจไทยปี 2566 และแนวโน้ม  \n",
      " เศรษฐกิจไทยปี 2566 ขยายตัวร้อยละ 1.9 ชะลอลงจากปีก่อนที่ร้อยละ 2.5 โดยแรงขับเคลื่อน\n",
      "หลักของเศรษฐกิจยังมาจากการบริโภคภาคเอกชน และกิจกรรมในภาคบริการโดยเฉพาะภาคการท่องเที่ยว  \n",
      "อย่างไรก็ตาม การฟื้นตัวในภาพรวมยังค่อนข้าง ช้าและไม่ทั่วถึง เนื่องจากการผลิตภาคอุตสาหกรรม และ\n",
      "มูลค่าการส่งออกสินค้าหดตัวร้อยละ 3.2 และ 1.7 ตามลำดับ จากปริมาณการค้าโลกอยู่ในภาวะชะลอตัว \n",
      "ประกอบกับไทยสูญเสียความสามารถในการแข่งขันในบางสินค้า  เช่น (1) ปิโตรเคมีและเคมีภัณฑ์ที่จีนหันมา\n",
      "ผลิตในประเทศมากขึ้น  และลดการพึ่งพาสินค้านำเข้าตาม นโยบาย Dual circulation ทำให้การส่งออกไปจีน\n"
     ]
    }
   ],
   "source": [
    "from langchain_community.document_loaders import PyPDFLoader\n",
    "\n",
    "loader = PyPDFLoader(PDF_FILE)\n",
    "pages = loader.load()\n",
    "\n",
    "print(f\"Number of pages: {len(pages)}\")\n",
    "print(f\"Length of a page: {len(pages[1].page_content)}\")\n",
    "print(\"Content of a page:\", pages[1].page_content)"
   ]
  },
  {
   "cell_type": "markdown",
   "metadata": {},
   "source": [
    "## Splitting the pages in chunks\n",
    "\n",
    "Pages are too long, so let's split pages into different chunks.\n",
    "\n",
    "<img src='images/splitter.png' width=\"1000\">\n"
   ]
  },
  {
   "cell_type": "code",
   "execution_count": 56,
   "metadata": {
    "tags": []
   },
   "outputs": [
    {
     "name": "stdout",
     "output_type": "stream",
     "text": [
      "Number of chunks: 24\n",
      "Length of a chunk: 919\n",
      "Content of a chunk: 1 \n",
      " สรุปภาวะเศรษฐกิจการเงินต่างประเทศและไทย ปี 2566 และแนวโน้ม  \n",
      "เศรษฐกิจต่างประเทศปี 2566 และแนวโน้ม  \n",
      "เศรษฐกิจโลกปี 256 6 ขยายตัวในอัตราที่ชะลอลงจากปีก่อน โดยการบริโภคภาคเอกชน  \n",
      "โดยเฉพาะภาคบริการ ยังเป็นแรงขับเคลื่อนเศรษฐกิจที่สำคัญในหลายประเทศ จากการผ่อนคลายมาตรการ\n",
      "ควบคุมการเดินทางระหว่างประเทศ และนโยบายการเปิดประเทศของจีน ในช่วงต้นปี  ขณะที่ปริมาณการค้า\n",
      "โลกที่ชะลอตัว ส่งผลให้การผลิตภาคอุตสาหกรรมและการส่งออกสินค้าใน หลายประเทศ โดยเฉพาะกลุ่ม\n",
      "ประเทศเอเชีย ชะลอลง ซึ่งเป็นผลจาก  (1) การดำเนินนโยบายการเงินที่เข้มงวดของธนาคารกลาง หลาย\n",
      "ประเทศเพื่อดูแลเงินเฟ้อที่มีแนวโน้มทรงตัวในระดับสูงนานกว่าคาด ซึ่งส่งผลให้สถาบันการเงินบางแห่งใน\n",
      "สหรัฐฯ และยุโรปประสบปัญหาด้านสภาพคล่อง ในไตรมาส 1 อย่างไรก็ดี ผลต่อเศรษฐกิจและการเงินโลก\n",
      "ค่อนข้างจำกัด เนื่องจากทางการได้ดำเนินมาตรการสกัดผลกระทบที่จะลุกลามเป็นวงกว้างได้อย่างรวดเร็ว \n",
      "อาทิ การค้ำประกันเงินฝาก และการตั้งกองทุนเพื่อเสริมสภาพคล่องแก่สถาบันการเงิน เป็นต้น  (2) การฟื้นตัว\n"
     ]
    }
   ],
   "source": [
    "from langchain.text_splitter import RecursiveCharacterTextSplitter\n",
    "\n",
    "splitter = RecursiveCharacterTextSplitter(chunk_size=1000, chunk_overlap=100)\n",
    "\n",
    "chunks = splitter.split_documents(pages)\n",
    "print(f\"Number of chunks: {len(chunks)}\")\n",
    "print(f\"Length of a chunk: {len(chunks[1].page_content)}\")\n",
    "print(\"Content of a chunk:\", chunks[1].page_content)\n"
   ]
  },
  {
   "cell_type": "markdown",
   "metadata": {},
   "source": [
    "## Storing the chunks in a vector store\n",
    "\n",
    "We can now generate embeddings for every chunk and store them in a vector store.\n",
    "\n",
    "<img src='images/vectorstore.png' width=\"1000\">\n"
   ]
  },
  {
   "cell_type": "code",
   "execution_count": 57,
   "metadata": {
    "tags": []
   },
   "outputs": [],
   "source": [
    "from langchain_community.vectorstores import FAISS\n",
    "from langchain_nvidia_ai_endpoints import NVIDIAEmbeddings\n",
    "\n",
    "embeddings = NVIDIAEmbeddings(\n",
    "    model=\"nvidia/nv-embedqa-e5-v5\",\n",
    "    base_url=\"http://10.134.1.48:31384/v1\",\n",
    "    api_key=apikey,\n",
    "    truncate=\"NONE\"\n",
    ")\n",
    "\n",
    "vectorstore = FAISS.from_documents(chunks, embeddings)"
   ]
  },
  {
   "cell_type": "markdown",
   "metadata": {},
   "source": [
    "## Setting up a retriever\n",
    "\n",
    "We can use a retriever to find chunks in the vector store that are similar to a supplied question.\n",
    "\n",
    "<img src='images/retriever.png' width=\"1000\">\n",
    "\n"
   ]
  },
  {
   "cell_type": "code",
   "execution_count": 58,
   "metadata": {
    "tags": []
   },
   "outputs": [
    {
     "data": {
      "text/plain": [
       "[Document(metadata={'source': 'llm/labs/LangChain/annual-econ-report-th-2566.pdf', 'page': 5}, page_content='5 \\n  \\nรวมเหตุการณ์สำคัญที่กระทบเศรษฐกิจการเงินโลกและไทย  \\n \\n \\n \\n \\n \\n \\n \\n \\n \\nปี 2566 เป็นอีกปีที่มีเหตุการณ์สำคัญ ที่ส่งผลกระทบต่อระบบเศรษฐกิจการเงินของโลกและไทย ดังนี้  \\n1. จีนได้ประกาศเปิดประเทศในวันที่ 8 ม.ค. 2566 โดยอนุญาตให้ชาวจีนเดินทางออกนอกประเทศได้\\nโดยไม่ต้องตรวจเชื้อโควิดและกักตัว หลังจากนั้นในวันที่ 15 มี.ค. 2566 จีนประกาศอนุญาตให้\\nนักท่องเที่ยวต่างชาติเดินทางกลับไปเที่ยวจีนได้  \\n2. วันที่ 12 มี.ค. 2566 ทางการสหรัฐประกาศปิดกิจการ  Signature Bank หลังจากนั้นในวันที่ 17 มี .ค. \\n2566 ธนาคาร Silicon Valley (SVB) ประกาศล้มละลาย  นอกจากนี้  ในวันที่ 19 มี.ค. 2566 Union \\nBank of Switzerland  (UBS) ซื้อกิจการของ Credit Suis se ในราคากว่า 3 พันล้านฟรังก์ โดยได้รับ\\nความสนับสนุนจากธนาคารกลาง และรัฐบาลสวิตเซอร์แลนด์  \\n3. การเลือกตั้งสมาชิกสภาผู้แทนราษฎรไทยเป็นการทั่วไปครั้งที่ 27 จัดขึ้นเมื่อวันที่ 14 พฤษภาคม 2566  \\nและมีการแถลงข่าวการจัดตั้งรัฐบาล ในวันที่ 21 ส.ค. 2566 โดยพรรคเพื่อไทยและพรรคร่วมรัฐบาล\\nอีก 11 พรรค โดยมี นายเศรษฐา ทวีสิน เป็นนายกรัฐมนตรี คนที่ 30 ของประเทศไทย'),\n",
       " Document(metadata={'source': 'llm/labs/LangChain/annual-econ-report-th-2566.pdf', 'page': 0}, page_content='ธนาคารแห่งประเทศไทย\\nรายงานภาวะเศรษฐกิจไทย ปี 2566'),\n",
       " Document(metadata={'source': 'llm/labs/LangChain/annual-econ-report-th-2566.pdf', 'page': 1}, page_content='1 \\n สรุปภาวะเศรษฐกิจการเงินต่างประเทศและไทย ปี 2566 และแนวโน้ม  \\nเศรษฐกิจต่างประเทศปี 2566 และแนวโน้ม  \\nเศรษฐกิจโลกปี 256 6 ขยายตัวในอัตราที่ชะลอลงจากปีก่อน โดยการบริโภคภาคเอกชน  \\nโดยเฉพาะภาคบริการ ยังเป็นแรงขับเคลื่อนเศรษฐกิจที่สำคัญในหลายประเทศ จากการผ่อนคลายมาตรการ\\nควบคุมการเดินทางระหว่างประเทศ และนโยบายการเปิดประเทศของจีน ในช่วงต้นปี  ขณะที่ปริมาณการค้า\\nโลกที่ชะลอตัว ส่งผลให้การผลิตภาคอุตสาหกรรมและการส่งออกสินค้าใน หลายประเทศ โดยเฉพาะกลุ่ม\\nประเทศเอเชีย ชะลอลง ซึ่งเป็นผลจาก  (1) การดำเนินนโยบายการเงินที่เข้มงวดของธนาคารกลาง หลาย\\nประเทศเพื่อดูแลเงินเฟ้อที่มีแนวโน้มทรงตัวในระดับสูงนานกว่าคาด ซึ่งส่งผลให้สถาบันการเงินบางแห่งใน\\nสหรัฐฯ และยุโรปประสบปัญหาด้านสภาพคล่อง ในไตรมาส 1 อย่างไรก็ดี ผลต่อเศรษฐกิจและการเงินโลก\\nค่อนข้างจำกัด เนื่องจากทางการได้ดำเนินมาตรการสกัดผลกระทบที่จะลุกลามเป็นวงกว้างได้อย่างรวดเร็ว \\nอาทิ การค้ำประกันเงินฝาก และการตั้งกองทุนเพื่อเสริมสภาพคล่องแก่สถาบันการเงิน เป็นต้น  (2) การฟื้นตัว'),\n",
       " Document(metadata={'source': 'llm/labs/LangChain/annual-econ-report-th-2566.pdf', 'page': 4}, page_content='ภาคการส่งออกของไทยและภาวะสินค้าล้นตลาด (2) ความสามารถในการเร่งเบิกจ่าย ของภาครัฐหลัง\\nงบประมาณปี 2567 มีผลบังคับใช้ (3) ความขัดแย้งด้านภูมิรัฐศาสตร์ และ (4) เศรษฐกิจและตลาดการเงินโลก\\nที่มีความไม่แน่นอนและผันผวน')]"
      ]
     },
     "execution_count": 58,
     "metadata": {},
     "output_type": "execute_result"
    }
   ],
   "source": [
    "retriever = vectorstore.as_retriever()\n",
    "retriever.invoke(\"แนวโน้มการขยายตัวทางเศรษฐกิจของปี 2566 เป็นอย่างไรเมื่อเทียบกับปีก่อน\")"
   ]
  },
  {
   "cell_type": "markdown",
   "metadata": {},
   "source": [
    "## Configuring the model\n",
    "\n",
    "We'll be using Ollama to load the local model in memory. After creating the model, we can invoke it with a question to get the response back.\n",
    "\n",
    "<img src='images/model.png' width=\"1000\">"
   ]
  },
  {
   "cell_type": "code",
   "execution_count": 59,
   "metadata": {
    "tags": []
   },
   "outputs": [
    {
     "data": {
      "text/plain": [
       "AIMessage(content=\"Based on various sources, including market research reports and industry trends, here are some industries that are expected to grow in 2023 (2566):\\n\\n1. **E-commerce and Digital Payments**: The COVID-19 pandemic has accelerated the shift to online shopping, and this trend is expected to continue. E-commerce sales are expected to grow by 15-20% in 2023.\\n2. **Healthcare Technology**: The healthcare industry is expected to invest more in technology, including telemedicine, artificial intelligence, and data analytics, to improve patient care and reduce costs.\\n3. **Renewable Energy**: As governments around the world set ambitious targets to reduce carbon emissions, the demand for renewable energy sources such as solar and wind power is expected to increase.\\n4. **Cybersecurity**: With the rise of online transactions and data breaches, cybersecurity is becoming a major concern for businesses and individuals. The demand for cybersecurity solutions and services is expected to grow by 10-15% in 2023.\\n5. **Artificial Intelligence and Machine Learning**: AI and ML are transforming industries such as healthcare, finance, and manufacturing. The demand for AI and ML talent and solutions is expected to grow by 20-25% in 2023.\\n6. **Logistics and Supply Chain Management**: The growth of e-commerce has created a need for efficient logistics and supply chain management solutions. The demand for logistics and supply chain management services is expected to grow by 10-15% in 2023.\\n7. **Financial Technology**: Fintech is expected to continue to disrupt traditional financial services, with innovations such as mobile payments, digital wallets, and blockchain technology.\\n8. **Education Technology**: The COVID-19 pandemic has accelerated the shift to online learning, and this trend is expected to continue. The demand for education technology solutions is expected to grow by 15-20% in 2023.\\n9. **Sustainable Agriculture**: As consumers become more environmentally conscious, the demand for sustainable agriculture practices and products is expected to grow.\\n10. **Autonomous Vehicles**: The development of autonomous vehicles is expected to continue, with applications in logistics, transportation, and other industries.\\n11. **Cloud Computing**: The shift to cloud computing is expected to continue, with more businesses moving their operations to the cloud to improve efficiency and reduce costs.\\n12. **Internet of Things (IoT)**: The growth of IoT devices is expected to continue, with applications in industries such as manufacturing, healthcare, and transportation.\\n13. **Blockchain Technology**: Blockchain technology is expected to continue to grow, with applications in industries such as finance, supply chain management, and healthcare.\\n14. **Virtual and Augmented Reality**: The growth of VR and AR technology is expected to continue, with applications in industries such as gaming, education, and healthcare.\\n15. **Environmental Consulting**: As businesses and governments focus on sustainability and environmental protection, the demand for environmental consulting services is expected to grow.\\n\\nThese are just a few examples of industries that are expected to grow in 2023. It's important to note that the growth of an industry can be influenced by various factors, including government policies, technological advancements, and global events.\", response_metadata={'role': 'assistant', 'content': \"Based on various sources, including market research reports and industry trends, here are some industries that are expected to grow in 2023 (2566):\\n\\n1. **E-commerce and Digital Payments**: The COVID-19 pandemic has accelerated the shift to online shopping, and this trend is expected to continue. E-commerce sales are expected to grow by 15-20% in 2023.\\n2. **Healthcare Technology**: The healthcare industry is expected to invest more in technology, including telemedicine, artificial intelligence, and data analytics, to improve patient care and reduce costs.\\n3. **Renewable Energy**: As governments around the world set ambitious targets to reduce carbon emissions, the demand for renewable energy sources such as solar and wind power is expected to increase.\\n4. **Cybersecurity**: With the rise of online transactions and data breaches, cybersecurity is becoming a major concern for businesses and individuals. The demand for cybersecurity solutions and services is expected to grow by 10-15% in 2023.\\n5. **Artificial Intelligence and Machine Learning**: AI and ML are transforming industries such as healthcare, finance, and manufacturing. The demand for AI and ML talent and solutions is expected to grow by 20-25% in 2023.\\n6. **Logistics and Supply Chain Management**: The growth of e-commerce has created a need for efficient logistics and supply chain management solutions. The demand for logistics and supply chain management services is expected to grow by 10-15% in 2023.\\n7. **Financial Technology**: Fintech is expected to continue to disrupt traditional financial services, with innovations such as mobile payments, digital wallets, and blockchain technology.\\n8. **Education Technology**: The COVID-19 pandemic has accelerated the shift to online learning, and this trend is expected to continue. The demand for education technology solutions is expected to grow by 15-20% in 2023.\\n9. **Sustainable Agriculture**: As consumers become more environmentally conscious, the demand for sustainable agriculture practices and products is expected to grow.\\n10. **Autonomous Vehicles**: The development of autonomous vehicles is expected to continue, with applications in logistics, transportation, and other industries.\\n11. **Cloud Computing**: The shift to cloud computing is expected to continue, with more businesses moving their operations to the cloud to improve efficiency and reduce costs.\\n12. **Internet of Things (IoT)**: The growth of IoT devices is expected to continue, with applications in industries such as manufacturing, healthcare, and transportation.\\n13. **Blockchain Technology**: Blockchain technology is expected to continue to grow, with applications in industries such as finance, supply chain management, and healthcare.\\n14. **Virtual and Augmented Reality**: The growth of VR and AR technology is expected to continue, with applications in industries such as gaming, education, and healthcare.\\n15. **Environmental Consulting**: As businesses and governments focus on sustainability and environmental protection, the demand for environmental consulting services is expected to grow.\\n\\nThese are just a few examples of industries that are expected to grow in 2023. It's important to note that the growth of an industry can be influenced by various factors, including government policies, technological advancements, and global events.\", 'token_usage': {'prompt_tokens': 29, 'total_tokens': 675, 'completion_tokens': 646}, 'finish_reason': 'stop', 'model_name': 'meta/llama3-8b-instruct'}, id='run-ebd89eab-1e52-4838-9041-7eeb75f4ba01-0', role='assistant')"
      ]
     },
     "execution_count": 59,
     "metadata": {},
     "output_type": "execute_result"
    }
   ],
   "source": [
    "from langchain_nvidia_ai_endpoints import ChatNVIDIA\n",
    "\n",
    "# llm model\n",
    "model = ChatNVIDIA(base_url=\"http://10.134.1.48:30644/v1\", \n",
    "                   model=\"meta/llama3-8b-instruct\", \n",
    "                   temperature=0.0, max_tokens=2000)  # Increase number of max_tokens for Thai\n",
    "\n",
    "model.invoke(\"อุตสาหกรรมที่คาดว่าจะมีการขยายตัวในปี 2566\")"
   ]
  },
  {
   "cell_type": "markdown",
   "metadata": {},
   "source": [
    "## Parsing the model's response\n",
    "\n",
    "The response from the model is an `AIMessage` instance containing the answer. We can extract the text answer by using the appropriate output parser. We can connect the model and the parser using a chain.\n",
    "\n",
    "<img src='images/parser.png' width=\"1000\">"
   ]
  },
  {
   "cell_type": "code",
   "execution_count": 60,
   "metadata": {
    "tags": []
   },
   "outputs": [
    {
     "name": "stdout",
     "output_type": "stream",
     "text": [
      "Based on various sources, including market research reports and industry trends, here are some industries that are expected to grow in 2023 (2566):\n",
      "\n",
      "1. **E-commerce and Digital Payments**: The COVID-19 pandemic has accelerated the shift to online shopping, and this trend is expected to continue. E-commerce sales are expected to grow by 15-20% in 2023.\n",
      "2. **Healthcare Technology**: The healthcare industry is expected to invest more in technology, including telemedicine, artificial intelligence, and data analytics, to improve patient care and reduce costs.\n",
      "3. **Renewable Energy**: As governments around the world set ambitious targets to reduce carbon emissions, the demand for renewable energy sources such as solar and wind power is expected to increase.\n",
      "4. **Cybersecurity**: With the rise of online transactions and data breaches, cybersecurity is becoming a major concern for businesses and individuals. The demand for cybersecurity solutions and services is expected to grow by 10-15% in 2023.\n",
      "5. **Artificial Intelligence and Machine Learning**: AI and ML are transforming industries such as healthcare, finance, and manufacturing. The demand for AI and ML talent and solutions is expected to grow by 20-25% in 2023.\n",
      "6. **Logistics and Supply Chain Management**: The growth of e-commerce has created a need for efficient logistics and supply chain management solutions. The demand for logistics and supply chain management services is expected to grow by 10-15% in 2023.\n",
      "7. **Financial Technology**: Fintech is expected to continue to disrupt traditional financial services, with innovations such as mobile payments, digital wallets, and blockchain technology.\n",
      "8. **Education Technology**: The COVID-19 pandemic has accelerated the shift to online learning, and this trend is expected to continue. The demand for education technology solutions is expected to grow by 15-20% in 2023.\n",
      "9. **Sustainable Agriculture**: As consumers become more environmentally conscious, the demand for sustainable agriculture practices and products is expected to grow.\n",
      "10. **Autonomous Vehicles**: The development of autonomous vehicles is expected to continue, with applications in logistics, transportation, and other industries.\n",
      "11. **Cloud Computing**: The shift to cloud computing is expected to continue, with more businesses moving their operations to the cloud to improve efficiency and reduce costs.\n",
      "12. **Internet of Things (IoT)**: The growth of IoT devices is expected to continue, with applications in industries such as manufacturing, healthcare, and transportation.\n",
      "13. **Blockchain Technology**: Blockchain technology is expected to continue to grow, with applications in industries such as finance, supply chain management, and healthcare.\n",
      "14. **Virtual and Augmented Reality**: The growth of VR and AR technology is expected to continue, with applications in industries such as gaming, education, and healthcare.\n",
      "15. **Environmental Consulting**: As businesses and governments focus on sustainability and environmental protection, the demand for environmental consulting services is expected to grow.\n",
      "\n",
      "These are just a few examples of industries that are expected to grow in 2023. It's important to note that the growth of an industry can be influenced by various factors, including government policies, technological advancements, and global events.\n"
     ]
    }
   ],
   "source": [
    "from langchain_core.output_parsers import StrOutputParser\n",
    "\n",
    "parser = StrOutputParser()\n",
    "\n",
    "chain = model | parser \n",
    "print(chain.invoke(\"อุตสาหกรรมที่คาดว่าจะมีการขยายตัวในปี 2566\"))"
   ]
  },
  {
   "cell_type": "markdown",
   "metadata": {},
   "source": [
    "## Setting up a prompt\n",
    "\n",
    "In addition to the question we want to ask, we also want to provide the model with the context from the PDF file. We can use a prompt template to define and reuse the prompt we'll use with the model.\n",
    "\n",
    "<img src='images/prompt.png' width=\"1000\">"
   ]
  },
  {
   "cell_type": "code",
   "execution_count": 61,
   "metadata": {
    "tags": []
   },
   "outputs": [
    {
     "name": "stdout",
     "output_type": "stream",
     "text": [
      "\n",
      "You are an assistant that provides answers to questions based on\n",
      "a given context. \n",
      "\n",
      "Alwasy answer the question based on the context in Thai. If you can't answer the\n",
      "question, reply \"ฉันมีข้อมูลไม่เพียงพอ\".\n",
      "\n",
      "Be as concise as possible and go straight to the point.\n",
      "\n",
      "Context: นี่คือ context\n",
      "\n",
      "Question: นีคือคำถาม\n",
      "\n"
     ]
    }
   ],
   "source": [
    "from langchain.prompts import PromptTemplate\n",
    "\n",
    "template = \"\"\"\n",
    "You are an assistant that provides answers to questions based on\n",
    "a given context. \n",
    "\n",
    "Alwasy answer the question based on the context in Thai. If you can't answer the\n",
    "question, reply \"ฉันมีข้อมูลไม่เพียงพอ\".\n",
    "\n",
    "Be as concise as possible and go straight to the point.\n",
    "\n",
    "Context: {context}\n",
    "\n",
    "Question: {question}\n",
    "\"\"\"\n",
    "\n",
    "prompt = PromptTemplate.from_template(template)\n",
    "print(prompt.format(context=\"นี่คือ context\", question=\"นีคือคำถาม\"))"
   ]
  },
  {
   "cell_type": "markdown",
   "metadata": {},
   "source": [
    "## Adding the prompt to the chain\n",
    "\n",
    "We can now chain the prompt with the model and the parser.\n",
    "\n",
    "<img src='images/chain1.png' width=\"1000\">"
   ]
  },
  {
   "cell_type": "code",
   "execution_count": 62,
   "metadata": {
    "tags": []
   },
   "outputs": [
    {
     "data": {
      "text/plain": [
       "'แอนนา'"
      ]
     },
     "execution_count": 62,
     "metadata": {},
     "output_type": "execute_result"
    }
   ],
   "source": [
    "chain = prompt | model | parser\n",
    "\n",
    "chain.invoke({\n",
    "    \"context\": \"Anna's sister is Susan\", \n",
    "    \"question\": \"Who is Susan's sister?\"\n",
    "})\n"
   ]
  },
  {
   "cell_type": "markdown",
   "metadata": {},
   "source": [
    "## Adding the retriever to the chain\n",
    "\n",
    "Finally, we can connect the retriever to the chain to get the context from the vector store.\n",
    "\n",
    "<img src='images/chain2.png' width=\"1000\">"
   ]
  },
  {
   "cell_type": "code",
   "execution_count": 63,
   "metadata": {
    "tags": []
   },
   "outputs": [],
   "source": [
    "from operator import itemgetter\n",
    "\n",
    "chain = (\n",
    "    {\n",
    "        \"context\": itemgetter(\"question\") | retriever,\n",
    "        \"question\": itemgetter(\"question\"),\n",
    "    }\n",
    "    | prompt\n",
    "    | model\n",
    "    | parser\n",
    ")"
   ]
  },
  {
   "cell_type": "markdown",
   "metadata": {},
   "source": [
    "## Using the chain to answer questions\n",
    "\n",
    "Finally, we can use the chain to ask questions that will be answered using the PDF document."
   ]
  },
  {
   "cell_type": "code",
   "execution_count": 70,
   "metadata": {},
   "outputs": [
    {
     "name": "stdout",
     "output_type": "stream",
     "text": [
      "Question: อุตสาหกรรมที่คาดว่าจะมีการขยายตัวในปี 2566\n",
      "Answer: บริการภาคบริการ\n",
      "*************************\n",
      "\n",
      "Question: จงสรุปภาพรวมด้านอัตราเงินเฟ้อและเศรษฐกิจภาคครัวเรือน\n",
      "Answer: อัตราเงินเฟ้อในปี 2566 อยู่ในระดับต่ำ โดยดัชนีราคาผู้บริโภคพื้นฐาน (ไม่รวมราคาอาหารสดและพลังงาน) อยู่ที่ 1.87% และอัตราการว่างงานอยู่ที่ 1.1% ส่วนหนี้สาธารณะ ณ สิ้นงวดอยู่ที่ 10,928 พันล้านบาท สัดส่วนหนี้สาธารณะต่อ GDP อยู่ที่ 61.7%\n",
      "*************************\n",
      "\n",
      "Question: กลุ่มสินค้าและบริการอะไรที่ไทยควรมีการพัฒนาให้สามารถแข่งขันในตลาดโลกได้\n",
      "Answer: ตามรายงานภาวะเศรษฐกิจไทย ปี 2566 กลุ่มสินค้าและบริการที่ไทยควรมีการพัฒนาให้สามารถแข่งขันในตลาดโลกได้แก่ สินค้าเกษตรและอาหารสินค้าขั้นปลาย รวมทั้งสินค้าอุตสาหกรรม เช่น สินค้าเหล็ก สินค้าพลาสติก สินค้าเครื่องมือเครื่องใช้ และบริการทางการเงิน รวมทั้งบริการด้านเทคโนโลยีสารสนเทศ\n",
      "*************************\n",
      "\n",
      "Question: แนวโน้มเศรษฐกิจไทยในอนาคตจะเป็นอย่างไร\n",
      "Answer: แนวโน้มเศรษฐกิจไทยในอนาคตมีความไม่แน่นอนและผันผวน เนื่องจากปัจจัยภายนอกที่มีผลกระทบต่อเศรษฐกิจไทย เช่น เศรษฐกิจและตลาดการเงินโลกที่มีความไม่แน่นอน\n",
      "*************************\n",
      "\n",
      "Question: ความเสี่ยงในอนาคตที่ไทยควรเตรียมรับมือ\n",
      "Answer: ตามรายงานภาวะเศรษฐกิจไทย ปี 2566 ได้ระบุว่า ความเสี่ยงในอนาคตที่ไทยควรเตรียมรับมือ ได้แก่ ความขัดแย้งด้านภูมิรัฐศาสตร์ และ เศรษฐกิจและตลาดการเงินโลก ที่มีความไม่แน่นอนและผันผวน\n",
      "*************************\n",
      "\n"
     ]
    }
   ],
   "source": [
    "questions = [\n",
    "    \"อุตสาหกรรมที่คาดว่าจะมีการขยายตัวในปี 2566\",\n",
    "    \"จงสรุปภาพรวมด้านอัตราเงินเฟ้อและเศรษฐกิจภาคครัวเรือน\",\n",
    "    \"กลุ่มสินค้าและบริการอะไรที่ไทยควรมีการพัฒนาให้สามารถแข่งขันในตลาดโลกได้\",\n",
    "    \"แนวโน้มเศรษฐกิจไทยในอนาคตจะเป็นอย่างไร\",\n",
    "    \"ความเสี่ยงในอนาคตที่ไทยควรเตรียมรับมือ\",\n",
    "]\n",
    "\n",
    "for question in questions:\n",
    "    print(f\"Question: {question}\")\n",
    "    print(f\"Answer: {chain.invoke({'question': question})}\")\n",
    "    print(\"*************************\\n\")"
   ]
  },
  {
   "cell_type": "code",
   "execution_count": null,
   "metadata": {},
   "outputs": [],
   "source": []
  }
 ],
 "metadata": {
  "kernelspec": {
   "display_name": "Pytorch+NGC on Kubernetes Operator 240702161026",
   "language": "python",
   "name": "jupyter-eg-kernel-k8s-cmjkop-ngc-py-1i26n1a82"
  },
  "language_info": {
   "codemirror_mode": {
    "name": "ipython",
    "version": 3
   },
   "file_extension": ".py",
   "mimetype": "text/x-python",
   "name": "python",
   "nbconvert_exporter": "python",
   "pygments_lexer": "ipython3",
   "version": "3.10.12"
  }
 },
 "nbformat": 4,
 "nbformat_minor": 4
}
