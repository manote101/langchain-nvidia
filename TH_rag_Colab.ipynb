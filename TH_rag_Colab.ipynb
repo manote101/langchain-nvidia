{
  "cells": [
    {
      "cell_type": "code",
      "execution_count": null,
      "metadata": {
        "colab": {
          "base_uri": "https://localhost:8080/"
        },
        "id": "8LVHv-S1ydeW",
        "outputId": "7b4a879b-637d-4346-e4b7-85551bdda71f"
      },
      "outputs": [
        {
          "name": "stdout",
          "output_type": "stream",
          "text": [
            "\u001b[2K   \u001b[90m━━━━━━━━━━━━━━━━━━━━━━━━━━━━━━━━━━━━━━━━\u001b[0m \u001b[32m27.0/27.0 MB\u001b[0m \u001b[31m37.7 MB/s\u001b[0m eta \u001b[36m0:00:00\u001b[0m\n",
            "\u001b[?25h"
          ]
        }
      ],
      "source": [
        "!pip install -qU langchain_community langchain_nvidia_ai_endpoints python-dotenv PyPDF faiss-cpu"
      ]
    },
    {
      "cell_type": "code",
      "execution_count": null,
      "metadata": {
        "id": "otYlaM5gyEcM",
        "tags": []
      },
      "outputs": [],
      "source": [
        "import os\n",
        "import os\n",
        "\n",
        "# from dotenv import load_dotenv, find_dotenv\n",
        "# load_dotenv(find_dotenv()) # read .env file\n",
        "# apikey = os.getenv('NVIDIA_API_KEY')\n",
        "\n",
        "# If you run in Google Colab\n",
        "from google.colab import userdata\n",
        "apikey = userdata.get('NVIDIA_API_KEY')\n"
      ]
    },
    {
      "cell_type": "code",
      "execution_count": null,
      "metadata": {
        "colab": {
          "base_uri": "https://localhost:8080/"
        },
        "id": "a23D47013z05",
        "outputId": "7183a330-f760-4e44-f89f-4707836c11ec"
      },
      "outputs": [
        {
          "name": "stdout",
          "output_type": "stream",
          "text": [
            "Mounted at /content/drive\n"
          ]
        }
      ],
      "source": [
        "from google.colab import drive\n",
        "drive.mount('/content/drive')"
      ]
    },
    {
      "cell_type": "markdown",
      "metadata": {
        "id": "7G-Pgz9iyEcN"
      },
      "source": [
        "# A Gentle Introduction to RAG Applications\n",
        "\n",
        "This notebook creates a simple RAG (Retrieval-Augmented Generation) system to answer questions from a PDF document using an open-source model."
      ]
    },
    {
      "cell_type": "code",
      "execution_count": null,
      "metadata": {
        "colab": {
          "base_uri": "https://localhost:8080/"
        },
        "id": "csNln0HYyEcP",
        "outputId": "305f29d8-383a-456c-b5fc-e3faaaf23c77",
        "tags": []
      },
      "outputs": [
        {
          "name": "stdout",
          "output_type": "stream",
          "text": [
            "--2024-08-18 05:03:07--  https://www.bot.or.th/content/dam/bot/documents/th/thai-economy/state-of-thai-economy/annual-report/annual-econ-report-th-2566.pdf\n",
            "Resolving www.bot.or.th (www.bot.or.th)... 23.209.37.11, 23.209.36.235, 2600:1408:5400:d::170c:93a5, ...\n",
            "Connecting to www.bot.or.th (www.bot.or.th)|23.209.37.11|:443... connected.\n",
            "HTTP request sent, awaiting response... 200 OK\n",
            "Length: 342845 (335K) [application/pdf]\n",
            "Saving to: ‘annual-econ-report-th-2566.pdf’\n",
            "\n",
            "annual-econ-report- 100%[===================>] 334.81K   285KB/s    in 1.2s    \n",
            "\n",
            "2024-08-18 05:03:11 (285 KB/s) - ‘annual-econ-report-th-2566.pdf’ saved [342845/342845]\n",
            "\n"
          ]
        }
      ],
      "source": [
        "# download BOT 2566 annual report from https://www.bot.or.th/content/dam/bot/documents/th/thai-economy/state-of-thai-economy/annual-report/annual-econ-report-th-2566.pdf\n",
        "!wget https://www.bot.or.th/content/dam/bot/documents/th/thai-economy/state-of-thai-economy/annual-report/annual-econ-report-th-2566.pdf -O annual-econ-report-th-2566.pdf\n",
        "\n",
        "PDF_FILE = \"annual-econ-report-th-2566.pdf\""
      ]
    },
    {
      "cell_type": "code",
      "execution_count": null,
      "metadata": {
        "colab": {
          "base_uri": "https://localhost:8080/"
        },
        "id": "RKfkCMJ0yEcP",
        "outputId": "7afb2d9f-0086-41e2-8f76-acaa310be1f8",
        "tags": []
      },
      "outputs": [
        {
          "name": "stdout",
          "output_type": "stream",
          "text": [
            "-rw------- 1 root root 157038 Aug 17 15:15 /content/drive/MyDrive/LLM/G-ABLE-Update/Presales_Update-2024-08/images/documents.png\n"
          ]
        }
      ],
      "source": [
        "!ls -l /content/drive/MyDrive/LLM/G-ABLE-Update/Presales_Update-2024-08/images/documents.png"
      ]
    },
    {
      "cell_type": "markdown",
      "metadata": {
        "id": "y4MaYICKyEcQ"
      },
      "source": [
        "## Loading the PDF document\n",
        "\n",
        "Let's start by loading the PDF document and breaking it down into separate pages.\n",
        "\n",
        "<img src='images/documents.png' width=\"1000\">"
      ]
    },
    {
      "cell_type": "code",
      "execution_count": null,
      "metadata": {
        "colab": {
          "base_uri": "https://localhost:8080/"
        },
        "id": "fKj8X1gpyEcR",
        "outputId": "6bd7453a-e943-4428-bf9a-d7ce10c17fe6",
        "tags": []
      },
      "outputs": [
        {
          "name": "stdout",
          "output_type": "stream",
          "text": [
            "Number of pages: 7\n",
            "Length of a page: 2988\n",
            "Content of a page:  \n",
            " \n",
            "1 \n",
            " สรุปภาวะเศรษฐกิจการเงินต่างประเทศและไทย ปี 2566 และแนวโน้ม  \n",
            "เศรษฐกิจต่างประเทศปี 2566 และแนวโน้ม  \n",
            "เศรษฐกิจโลกปี 256 6 ขยายตัวในอัตราที่ชะลอลงจากปีก่อน โดยการบริโภคภาคเอกชน  \n",
            "โดยเฉพาะภาคบริการ ยังเป็นแรงขับเคลื่อนเศรษฐกิจที่สำคัญในหลายประเทศ จากการผ่อนคลายมาตรการ\n",
            "ควบคุมการเดินทางระหว่างประเทศ และนโยบายการเปิดประเทศของจีน ในช่วงต้นปี  ขณะที่ปริมาณการค้า\n",
            "โลกที่ชะลอตัว ส่งผลให้การผลิตภาคอุตสาหกรรมและการส่งออกสินค้าใน หลายประเทศ โดยเฉพาะกลุ่ม\n",
            "ประเทศเอเชีย ชะลอลง ซึ่งเป็นผลจาก  (1) การดำเนินนโยบายการเงินที่เข้มงวดของธนาคารกลาง หลาย\n",
            "ประเทศเพื่อดูแลเงินเฟ้อที่มีแนวโน้มทรงตัวในระดับสูงนานกว่าคาด ซึ่งส่งผลให้สถาบันการเงินบางแห่งใน\n",
            "สหรัฐฯ และยุโรปประสบปัญหาด้านสภาพคล่อง ในไตรมาส 1 อย่างไรก็ดี ผลต่อเศรษฐกิจและการเงินโลก\n",
            "ค่อนข้างจำกัด เนื่องจากทางการได้ดำเนินมาตรการสกัดผลกระทบที่จะลุกลามเป็นวงกว้างได้อย่างรวดเร็ว \n",
            "อาทิ การค้ำประกันเงินฝาก และการตั้งกองทุนเพื่อเสริมสภาพคล่องแก่สถาบันการเงิน เป็นต้น  (2) การฟื้นตัว\n",
            "ของเศรษฐกิจจีนที่เป็นไปอย่างล่าช้าเนื่องจาก ภาคอสังหาริมทรัพย์ อยู่ในภาวะชะลอตัว  (3) สินค้าคงคลังยังอยู่\n",
            "ในระดับสูง  เนื่องจากธุรกิจเร่งสะสมสินค้าคงคลังในช่วงการระบาดของ COVID -19 ที่มีปัญหาขาดแคลน\n",
            "วัตถุดิบและปัญหาการขนส่งสินค้าที่ใช้ระยะเวลานาน  และ (4) ปัญหาความขัดแย้งทาง ภูมิรัฐศาสตร์ \n",
            "โดยเฉพาะการกีดกันทางการค้า และการพัฒนาอุตสาหกรรมด้านเทคโนโลยี ระหว่างจีนกับสหรัฐฯ ที่ มีต่อเนื่อง \n",
            "รวมทั้งความขัดแย้งระหว่างรัสเซียและยูเครนที่ยังคงยืดเยื้อ  อย่างไรก็ดี ปริมาณการค้าโลกมีทิศทางปรับดีขึ้น\n",
            "ในช่วงไตรมาสสุดท้ายของปี 2566 ตามการส่งออกสินค้าอิเล็กทรอนิกส์ของเอเชีย  อาทิ เกาหลีใต้ และไต้หวัน \n",
            "ที่ทยอยฟื้นตัว แม้เศรษฐกิจโลกจะเผชิญกับความไม่แน่นอนที่สูงขึ้นจาก สงครามระหว่างอิสราเอลและกลุ่ม  \n",
            "ฮามาสในช่วงท้ายของปี  \n",
            "ในปี 2567 เศรษฐกิจโลกมีแนวโน้ม ขยายตัวต่อเนื่อง จากแรงขับเคลื่อนที่สมดุลมากขึ้นระหว่าง\n",
            "ภาคบริการที่ยังมีแนวโน้มขยายตัว และการค้า และการผลิตที่กลับมาฟื้นตัว ประกอบกับอัตราเงินเฟ้อใน\n",
            "หลายประเทศที่ลดลง ตามทิศทางราคาพลังงานและสินค้าโภคภัณฑ์  จะส่งผลให้นโยบายการเงิน มีโอกาสลด\n",
            "ความตึงตัวลงได้บ้าง  โดยปริมาณการค้าโลกจะกลับมาขยายตัวดีขึ้น ส่วนหนึ่ง ตามการฟื้นตัวของ วัฏจักร\n",
            "อิเล็กทรอนิกส์ของโลก  และแนวโน้มกลับมาสะสมสินค้าคงคลัง หลังระดับสินค้าคงคลัง ได้ปรับลดลงมาก \n",
            "อย่างไรก็ตาม เศรษฐกิจโลกในปี 2567 ยังเผชิญกับความท้าทายในหลายมิติ และตลาดการเงินยังอาจผันผวนสูง  \n",
            "เนื่องจาก (1) ความขัดแย้งทาง ภูมิรัฐศาสตร์ในหลายพื้นที่ (2) การเลือกตั้งที่จะเกิดขึ้นในหลายประเทศซึ่งจะมี\n",
            "นัยต่อเศรษฐกิจ ทิศทางนโยบายสำคัญ  และภูมิรัฐศาสตร์โลก และ (3) การปรับนโยบายการเงินของธนาคาร\n",
            "กลางหลัก  \n",
            "เศรษฐกิจไทยปี 2566 และแนวโน้ม  \n",
            " เศรษฐกิจไทยปี 2566 ขยายตัวร้อยละ 1.9 ชะลอลงจากปีก่อนที่ร้อยละ 2.5 โดยแรงขับเคลื่อน\n",
            "หลักของเศรษฐกิจยังมาจากการบริโภคภาคเอกชน และกิจกรรมในภาคบริการโดยเฉพาะภาคการท่องเที่ยว  \n",
            "อย่างไรก็ตาม การฟื้นตัวในภาพรวมยังค่อนข้าง ช้าและไม่ทั่วถึง เนื่องจากการผลิตภาคอุตสาหกรรม และ\n",
            "มูลค่าการส่งออกสินค้าหดตัวร้อยละ 3.2 และ 1.7 ตามลำดับ จากปริมาณการค้าโลกอยู่ในภาวะชะลอตัว \n",
            "ประกอบกับไทยสูญเสียความสามารถในการแข่งขันในบางสินค้า  เช่น (1) ปิโตรเคมีและเคมีภัณฑ์ที่จีนหันมา\n",
            "ผลิตในประเทศมากขึ้น  และลดการพึ่งพาสินค้านำเข้าตาม นโยบาย Dual circulation ทำให้การส่งออกไปจีน\n"
          ]
        }
      ],
      "source": [
        "from langchain_community.document_loaders import PyPDFLoader\n",
        "\n",
        "loader = PyPDFLoader(PDF_FILE)\n",
        "pages = loader.load()\n",
        "\n",
        "print(f\"Number of pages: {len(pages)}\")\n",
        "print(f\"Length of a page: {len(pages[1].page_content)}\")\n",
        "print(\"Content of a page:\", pages[1].page_content)"
      ]
    },
    {
      "cell_type": "markdown",
      "metadata": {
        "id": "BCynbCrmyEcR"
      },
      "source": [
        "## Splitting the pages in chunks\n",
        "\n",
        "Pages are too long, so let's split pages into different chunks.\n",
        "\n",
        "<img src='images/splitter.png' width=\"1000\">\n"
      ]
    },
    {
      "cell_type": "code",
      "execution_count": null,
      "metadata": {
        "colab": {
          "base_uri": "https://localhost:8080/"
        },
        "id": "wdRoYIvgyEcS",
        "outputId": "0efc4db5-fd23-4e83-c519-90147054946f",
        "tags": []
      },
      "outputs": [
        {
          "name": "stdout",
          "output_type": "stream",
          "text": [
            "Number of chunks: 24\n",
            "Length of a chunk: 919\n",
            "Content of a chunk: 1 \n",
            " สรุปภาวะเศรษฐกิจการเงินต่างประเทศและไทย ปี 2566 และแนวโน้ม  \n",
            "เศรษฐกิจต่างประเทศปี 2566 และแนวโน้ม  \n",
            "เศรษฐกิจโลกปี 256 6 ขยายตัวในอัตราที่ชะลอลงจากปีก่อน โดยการบริโภคภาคเอกชน  \n",
            "โดยเฉพาะภาคบริการ ยังเป็นแรงขับเคลื่อนเศรษฐกิจที่สำคัญในหลายประเทศ จากการผ่อนคลายมาตรการ\n",
            "ควบคุมการเดินทางระหว่างประเทศ และนโยบายการเปิดประเทศของจีน ในช่วงต้นปี  ขณะที่ปริมาณการค้า\n",
            "โลกที่ชะลอตัว ส่งผลให้การผลิตภาคอุตสาหกรรมและการส่งออกสินค้าใน หลายประเทศ โดยเฉพาะกลุ่ม\n",
            "ประเทศเอเชีย ชะลอลง ซึ่งเป็นผลจาก  (1) การดำเนินนโยบายการเงินที่เข้มงวดของธนาคารกลาง หลาย\n",
            "ประเทศเพื่อดูแลเงินเฟ้อที่มีแนวโน้มทรงตัวในระดับสูงนานกว่าคาด ซึ่งส่งผลให้สถาบันการเงินบางแห่งใน\n",
            "สหรัฐฯ และยุโรปประสบปัญหาด้านสภาพคล่อง ในไตรมาส 1 อย่างไรก็ดี ผลต่อเศรษฐกิจและการเงินโลก\n",
            "ค่อนข้างจำกัด เนื่องจากทางการได้ดำเนินมาตรการสกัดผลกระทบที่จะลุกลามเป็นวงกว้างได้อย่างรวดเร็ว \n",
            "อาทิ การค้ำประกันเงินฝาก และการตั้งกองทุนเพื่อเสริมสภาพคล่องแก่สถาบันการเงิน เป็นต้น  (2) การฟื้นตัว\n"
          ]
        }
      ],
      "source": [
        "from langchain.text_splitter import RecursiveCharacterTextSplitter\n",
        "\n",
        "splitter = RecursiveCharacterTextSplitter(chunk_size=1000, chunk_overlap=100)\n",
        "\n",
        "chunks = splitter.split_documents(pages)\n",
        "print(f\"Number of chunks: {len(chunks)}\")\n",
        "print(f\"Length of a chunk: {len(chunks[1].page_content)}\")\n",
        "print(\"Content of a chunk:\", chunks[1].page_content)\n"
      ]
    },
    {
      "cell_type": "markdown",
      "metadata": {
        "id": "UpaUXMn8yEcS"
      },
      "source": [
        "## Storing the chunks in a vector store\n",
        "\n",
        "We can now generate embeddings for every chunk and store them in a vector store.\n",
        "\n",
        "<img src='images/vectorstore.png' width=\"1000\">\n"
      ]
    },
    {
      "cell_type": "code",
      "execution_count": null,
      "metadata": {
        "id": "bYzS7Vb3yEcS",
        "tags": []
      },
      "outputs": [],
      "source": [
        "from langchain_community.vectorstores import FAISS\n",
        "from langchain_nvidia_ai_endpoints import NVIDIAEmbeddings\n",
        "\n",
        "embeddings = NVIDIAEmbeddings(\n",
        "    model=\"nvidia/nv-embedqa-e5-v5\",\n",
        "    api_key=apikey,\n",
        "    truncate=\"NONE\"\n",
        ")\n",
        "\n",
        "vectorstore = FAISS.from_documents(chunks, embeddings)"
      ]
    },
    {
      "cell_type": "markdown",
      "metadata": {
        "id": "O9QrtdT2yEcS"
      },
      "source": [
        "## Setting up a retriever\n",
        "\n",
        "We can use a retriever to find chunks in the vector store that are similar to a supplied question.\n",
        "\n",
        "<img src='images/retriever.png' width=\"1000\">\n",
        "\n"
      ]
    },
    {
      "cell_type": "code",
      "execution_count": null,
      "metadata": {
        "colab": {
          "base_uri": "https://localhost:8080/"
        },
        "id": "O5BJBDz0yEcT",
        "outputId": "02e63426-b906-4857-e1ba-b5411fb3d5de",
        "tags": []
      },
      "outputs": [
        {
          "data": {
            "text/plain": [
              "[Document(metadata={'source': 'annual-econ-report-th-2566.pdf', 'page': 5}, page_content='5 \\n  \\nรวมเหตุการณ์สำคัญที่กระทบเศรษฐกิจการเงินโลกและไทย  \\n \\n \\n \\n \\n \\n \\n \\n \\n \\nปี 2566 เป็นอีกปีที่มีเหตุการณ์สำคัญ ที่ส่งผลกระทบต่อระบบเศรษฐกิจการเงินของโลกและไทย ดังนี้  \\n1. จีนได้ประกาศเปิดประเทศในวันที่ 8 ม.ค. 2566 โดยอนุญาตให้ชาวจีนเดินทางออกนอกประเทศได้\\nโดยไม่ต้องตรวจเชื้อโควิดและกักตัว หลังจากนั้นในวันที่ 15 มี.ค. 2566 จีนประกาศอนุญาตให้\\nนักท่องเที่ยวต่างชาติเดินทางกลับไปเที่ยวจีนได้  \\n2. วันที่ 12 มี.ค. 2566 ทางการสหรัฐประกาศปิดกิจการ  Signature Bank หลังจากนั้นในวันที่ 17 มี .ค. \\n2566 ธนาคาร Silicon Valley (SVB) ประกาศล้มละลาย  นอกจากนี้  ในวันที่ 19 มี.ค. 2566 Union \\nBank of Switzerland  (UBS) ซื้อกิจการของ Credit Suis se ในราคากว่า 3 พันล้านฟรังก์ โดยได้รับ\\nความสนับสนุนจากธนาคารกลาง และรัฐบาลสวิตเซอร์แลนด์  \\n3. การเลือกตั้งสมาชิกสภาผู้แทนราษฎรไทยเป็นการทั่วไปครั้งที่ 27 จัดขึ้นเมื่อวันที่ 14 พฤษภาคม 2566  \\nและมีการแถลงข่าวการจัดตั้งรัฐบาล ในวันที่ 21 ส.ค. 2566 โดยพรรคเพื่อไทยและพรรคร่วมรัฐบาล\\nอีก 11 พรรค โดยมี นายเศรษฐา ทวีสิน เป็นนายกรัฐมนตรี คนที่ 30 ของประเทศไทย'),\n",
              " Document(metadata={'source': 'annual-econ-report-th-2566.pdf', 'page': 0}, page_content='ธนาคารแห่งประเทศไทย\\nรายงานภาวะเศรษฐกิจไทย ปี 2566'),\n",
              " Document(metadata={'source': 'annual-econ-report-th-2566.pdf', 'page': 1}, page_content='1 \\n สรุปภาวะเศรษฐกิจการเงินต่างประเทศและไทย ปี 2566 และแนวโน้ม  \\nเศรษฐกิจต่างประเทศปี 2566 และแนวโน้ม  \\nเศรษฐกิจโลกปี 256 6 ขยายตัวในอัตราที่ชะลอลงจากปีก่อน โดยการบริโภคภาคเอกชน  \\nโดยเฉพาะภาคบริการ ยังเป็นแรงขับเคลื่อนเศรษฐกิจที่สำคัญในหลายประเทศ จากการผ่อนคลายมาตรการ\\nควบคุมการเดินทางระหว่างประเทศ และนโยบายการเปิดประเทศของจีน ในช่วงต้นปี  ขณะที่ปริมาณการค้า\\nโลกที่ชะลอตัว ส่งผลให้การผลิตภาคอุตสาหกรรมและการส่งออกสินค้าใน หลายประเทศ โดยเฉพาะกลุ่ม\\nประเทศเอเชีย ชะลอลง ซึ่งเป็นผลจาก  (1) การดำเนินนโยบายการเงินที่เข้มงวดของธนาคารกลาง หลาย\\nประเทศเพื่อดูแลเงินเฟ้อที่มีแนวโน้มทรงตัวในระดับสูงนานกว่าคาด ซึ่งส่งผลให้สถาบันการเงินบางแห่งใน\\nสหรัฐฯ และยุโรปประสบปัญหาด้านสภาพคล่อง ในไตรมาส 1 อย่างไรก็ดี ผลต่อเศรษฐกิจและการเงินโลก\\nค่อนข้างจำกัด เนื่องจากทางการได้ดำเนินมาตรการสกัดผลกระทบที่จะลุกลามเป็นวงกว้างได้อย่างรวดเร็ว \\nอาทิ การค้ำประกันเงินฝาก และการตั้งกองทุนเพื่อเสริมสภาพคล่องแก่สถาบันการเงิน เป็นต้น  (2) การฟื้นตัว'),\n",
              " Document(metadata={'source': 'annual-econ-report-th-2566.pdf', 'page': 4}, page_content='ภาคการส่งออกของไทยและภาวะสินค้าล้นตลาด (2) ความสามารถในการเร่งเบิกจ่าย ของภาครัฐหลัง\\nงบประมาณปี 2567 มีผลบังคับใช้ (3) ความขัดแย้งด้านภูมิรัฐศาสตร์ และ (4) เศรษฐกิจและตลาดการเงินโลก\\nที่มีความไม่แน่นอนและผันผวน')]"
            ]
          },
          "execution_count": 15,
          "metadata": {},
          "output_type": "execute_result"
        }
      ],
      "source": [
        "retriever = vectorstore.as_retriever()\n",
        "retriever.invoke(\"แนวโน้มการขยายตัวทางเศรษฐกิจของปี 2566 เป็นอย่างไรเมื่อเทียบกับปีก่อน\")"
      ]
    },
    {
      "cell_type": "markdown",
      "metadata": {
        "id": "u83hq3qUyEcT"
      },
      "source": [
        "## Configuring the model\n",
        "\n",
        "We'll be using Ollama to load the local model in memory. After creating the model, we can invoke it with a question to get the response back.\n",
        "\n",
        "<img src='images/model.png' width=\"1000\">"
      ]
    },
    {
      "cell_type": "code",
      "execution_count": null,
      "metadata": {
        "colab": {
          "base_uri": "https://localhost:8080/"
        },
        "id": "GAq1drpkyEcT",
        "outputId": "f928ea90-5dee-4eec-d798-ccf74c61c113",
        "tags": []
      },
      "outputs": [
        {
          "data": {
            "text/plain": [
              "AIMessage(content='อุตสาหกรรมที่คาดว่าจะมีการขยายตัวในปี 2566 ได้แก่\\n\\n1. อุตสาหกรรมเทคโนโลยี: อุตสาหกรรมเทคโนโลยี เช่น เทคโนโลยีสารสนเทศ, เทคโนโลยีเครื่องจักร, เทคโนโลยีชีวภาพ, เทคโนโลยีพลังงาน, เทคโนโลยีการสื่อสารมวลชน เป็นต้น คาดว่าจะมีการขยายตัวอย่างมากในปี 2566 เนื่องจากความต้องการเทคโนโลยีที่ทันสมัยและความสามารถในการปรับตัวเข้ากับเทคโนโลยีใหม่ๆ\\n\\n2. อุตสาหกรรมการแพทย์: อุตสาหกรรมการแพทย์ เช่น อุตสาหกรรมผลิตยา, อุตสาหกรรมผลิตอุปกรณ์ทางการแพทย์, อุตสาหกรรมผลิตเครื่องมือทางการแพทย์ เป็นต้น คาดว่าจะมีการขยายตัวในปี 2566 เนื่องจากความต้องการด้านสุขภาพที่เพิ่มขึ้นและความสามารถในการพัฒนาเทคโนโลยีการแพทย์ที่ทันสมัย\\n\\n3. อุตสาหกรรมการเกษตร: อุตสาหกรรมการเกษตร เช่น อุตสาหกรรมผลิตอาหาร, อุตสาหกรรมผลิตผลิตภัณฑ์จากพืช, อุตสาหกรรมผลิตผลิตภัณฑ์จากสัตว์ เป็นต้น คาดว่าจะมีการขยายตัวในปี 2566 เนื่องจากความต้องการอาหารที่เพิ่มขึ้นและความสามารถในการพัฒนาเทคโนโลยีการเกษตรที่ทันสมัย\\n\\n4. อุตสาหกรรมการขนส่ง: อุตสาหกรรมการขนส่ง เช่น อุตสาหกรรมรถยนต์, อุตสาหกรรมเครื่องบิน, อุตสาหกรรมเรือ เป็นต้น คาดว่าจะมีการขยายตัวในปี 2566 เนื่องจากความต้องการการขนส่งที่เพิ่มขึ้นและความสามารถในการพัฒนาเทคโนโลยีการขนส่งที่ทันสมัย\\n\\n5. อุตสาหกรรมการเงิน: อุตสาหกรรมการเงิน เช่น อุตสาหกรรมธนาคาร, อุตสาหกรรมประกันภัย, อุตสาหกรรมการลงทุน เป็นต้น คาดว่าจะมีการขยายตัวในปี 2566 เนื่องจากความต้องการการเงินที่เพิ่มขึ้นและความสามารถในการพัฒนาเทคโนโลยีการเงินที่ทันสมัย\\n\\n6. อุตสาหกรรมการท่องเที่ยว: อุตสาหกรรมการท่องเที่ยว เช่น อุตสาหกรรมโรงแรม, อุตสาหกรรมร้านอาหาร, อุตสาหกรรมบริการท่องเที่ยว เป็นต้น คาดว่าจะมีการขยายตัวในปี 2566 เนื่องจากความต้องการการท่องเที่ยวที่เพิ่มขึ้นและความสามารถในการพัฒนาเทคโนโลยีการท่องเที่ยวที่ทันสมัย\\n\\n7. อุตสาหกรรมผลิตสินค้า: อุตสาหกรรมผลิตสินค้า เช่น อุตสาหกรรมผลิตเครื่องใช้ไฟฟ้า, อุตสาหกรรมผลิตเครื่องมือ, อุตสาหกรรมผลิตสินค้าจากพลาสติก เป็นต้น คาดว่าจะมีการขยายตัวในปี 2566 เนื่องจากความต้องการสินค้าที่เพิ่มขึ้นและความสามารถในการพัฒนาเทคโนโลยีการผลิตที่ทันสมัย\\n\\n8. อุตสาหกรรมการบิน: อุตสาหกรรมการบิน เช่น อุตสาหกรรมเครื่องบิน, อุตสาหกรรมการบิน, อุตสาหกรรมบริการการบิน เป็นต้น คาดว่าจะมีการขยายตัวในปี 2566 เนื่องจากความต้องการการบินที่เพิ่มขึ้นและความสามารถในการพัฒนาเทคโนโลยีการบินที่ทันสมัย\\n\\n9. อุตสาหกรรมการประมง: อุตสาหกรรมการประมง เช่น อุตสาหกรรมประมง, อุตสาหกรรมผลิตอาหารจากปลา, อุตสาหกรรมผลิตผลิตภัณฑ์จากปลา เป็นต้น คาดว่าจะมีการขยายตัวในปี 2566 เนื่องจากความต้องการอาหารจากปลาที่เพิ่มขึ้นและความสามารถในการพัฒนาเทคโนโลยีการประมงที่ทันสมัย\\n\\n10. อุตสาหกรรมการผลิตพลังงาน: อุตสาหกรรมการผลิตพลังงาน เช่น อุตสาหกรรมผลิตไฟฟ้า, อุตสาหกรรมผลิตก๊าซธรรมชาติ, อุตสาหกรรมผลิตน้ำมัน เป็นต้น คาดว่าจะมีการขยายตัวในปี 2566 เนื่องจากความต้องการพลังงานที่เพิ่มขึ้นและความสามารถในการพัฒนาเทคโนโลยีการผลิตพลังงานที่ทันสมัย', response_metadata={'role': 'assistant', 'content': 'อุตสาหกรรมที่คาดว่าจะมีการขยายตัวในปี 2566 ได้แก่\\n\\n1. อุตสาหกรรมเทคโนโลยี: อุตสาหกรรมเทคโนโลยี เช่น เทคโนโลยีสารสนเทศ, เทคโนโลยีเครื่องจักร, เทคโนโลยีชีวภาพ, เทคโนโลยีพลังงาน, เทคโนโลยีการสื่อสารมวลชน เป็นต้น คาดว่าจะมีการขยายตัวอย่างมากในปี 2566 เนื่องจากความต้องการเทคโนโลยีที่ทันสมัยและความสามารถในการปรับตัวเข้ากับเทคโนโลยีใหม่ๆ\\n\\n2. อุตสาหกรรมการแพทย์: อุตสาหกรรมการแพทย์ เช่น อุตสาหกรรมผลิตยา, อุตสาหกรรมผลิตอุปกรณ์ทางการแพทย์, อุตสาหกรรมผลิตเครื่องมือทางการแพทย์ เป็นต้น คาดว่าจะมีการขยายตัวในปี 2566 เนื่องจากความต้องการด้านสุขภาพที่เพิ่มขึ้นและความสามารถในการพัฒนาเทคโนโลยีการแพทย์ที่ทันสมัย\\n\\n3. อุตสาหกรรมการเกษตร: อุตสาหกรรมการเกษตร เช่น อุตสาหกรรมผลิตอาหาร, อุตสาหกรรมผลิตผลิตภัณฑ์จากพืช, อุตสาหกรรมผลิตผลิตภัณฑ์จากสัตว์ เป็นต้น คาดว่าจะมีการขยายตัวในปี 2566 เนื่องจากความต้องการอาหารที่เพิ่มขึ้นและความสามารถในการพัฒนาเทคโนโลยีการเกษตรที่ทันสมัย\\n\\n4. อุตสาหกรรมการขนส่ง: อุตสาหกรรมการขนส่ง เช่น อุตสาหกรรมรถยนต์, อุตสาหกรรมเครื่องบิน, อุตสาหกรรมเรือ เป็นต้น คาดว่าจะมีการขยายตัวในปี 2566 เนื่องจากความต้องการการขนส่งที่เพิ่มขึ้นและความสามารถในการพัฒนาเทคโนโลยีการขนส่งที่ทันสมัย\\n\\n5. อุตสาหกรรมการเงิน: อุตสาหกรรมการเงิน เช่น อุตสาหกรรมธนาคาร, อุตสาหกรรมประกันภัย, อุตสาหกรรมการลงทุน เป็นต้น คาดว่าจะมีการขยายตัวในปี 2566 เนื่องจากความต้องการการเงินที่เพิ่มขึ้นและความสามารถในการพัฒนาเทคโนโลยีการเงินที่ทันสมัย\\n\\n6. อุตสาหกรรมการท่องเที่ยว: อุตสาหกรรมการท่องเที่ยว เช่น อุตสาหกรรมโรงแรม, อุตสาหกรรมร้านอาหาร, อุตสาหกรรมบริการท่องเที่ยว เป็นต้น คาดว่าจะมีการขยายตัวในปี 2566 เนื่องจากความต้องการการท่องเที่ยวที่เพิ่มขึ้นและความสามารถในการพัฒนาเทคโนโลยีการท่องเที่ยวที่ทันสมัย\\n\\n7. อุตสาหกรรมผลิตสินค้า: อุตสาหกรรมผลิตสินค้า เช่น อุตสาหกรรมผลิตเครื่องใช้ไฟฟ้า, อุตสาหกรรมผลิตเครื่องมือ, อุตสาหกรรมผลิตสินค้าจากพลาสติก เป็นต้น คาดว่าจะมีการขยายตัวในปี 2566 เนื่องจากความต้องการสินค้าที่เพิ่มขึ้นและความสามารถในการพัฒนาเทคโนโลยีการผลิตที่ทันสมัย\\n\\n8. อุตสาหกรรมการบิน: อุตสาหกรรมการบิน เช่น อุตสาหกรรมเครื่องบิน, อุตสาหกรรมการบิน, อุตสาหกรรมบริการการบิน เป็นต้น คาดว่าจะมีการขยายตัวในปี 2566 เนื่องจากความต้องการการบินที่เพิ่มขึ้นและความสามารถในการพัฒนาเทคโนโลยีการบินที่ทันสมัย\\n\\n9. อุตสาหกรรมการประมง: อุตสาหกรรมการประมง เช่น อุตสาหกรรมประมง, อุตสาหกรรมผลิตอาหารจากปลา, อุตสาหกรรมผลิตผลิตภัณฑ์จากปลา เป็นต้น คาดว่าจะมีการขยายตัวในปี 2566 เนื่องจากความต้องการอาหารจากปลาที่เพิ่มขึ้นและความสามารถในการพัฒนาเทคโนโลยีการประมงที่ทันสมัย\\n\\n10. อุตสาหกรรมการผลิตพลังงาน: อุตสาหกรรมการผลิตพลังงาน เช่น อุตสาหกรรมผลิตไฟฟ้า, อุตสาหกรรมผลิตก๊าซธรรมชาติ, อุตสาหกรรมผลิตน้ำมัน เป็นต้น คาดว่าจะมีการขยายตัวในปี 2566 เนื่องจากความต้องการพลังงานที่เพิ่มขึ้นและความสามารถในการพัฒนาเทคโนโลยีการผลิตพลังงานที่ทันสมัย', 'token_usage': {'prompt_tokens': 30, 'total_tokens': 981, 'completion_tokens': 951}, 'finish_reason': 'stop', 'model_name': 'meta/llama-3.1-8b-instruct'}, id='run-4306d9ba-803e-4460-8a38-800c99eeb78c-0', role='assistant')"
            ]
          },
          "execution_count": 32,
          "metadata": {},
          "output_type": "execute_result"
        }
      ],
      "source": [
        "from langchain_nvidia_ai_endpoints import ChatNVIDIA\n",
        "\n",
        "# llm model\n",
        "model = ChatNVIDIA(model=\"meta/llama-3.1-8b-instruct\",\n",
        "                   api_key=apikey,\n",
        "                   top_k=3,\n",
        "                   temperature=0.0, max_tokens=2000)  # Increase number of max_tokens for Thai\n",
        "\n",
        "model.invoke(\"อุตสาหกรรมที่คาดว่าจะมีการขยายตัวในปี 2566\")"
      ]
    },
    {
      "cell_type": "code",
      "execution_count": null,
      "metadata": {
        "colab": {
          "base_uri": "https://localhost:8080/"
        },
        "id": "fPHDvdo35f_B",
        "outputId": "2e970300-2b01-4c25-c104-f00b846cc16b"
      },
      "outputs": [
        {
          "data": {
            "text/plain": [
              "ChatNVIDIA(base_url='https://integrate.api.nvidia.com/v1', model='meta/llama-3.1-8b-instruct', temperature=0.0, max_tokens=2000)"
            ]
          },
          "execution_count": 33,
          "metadata": {},
          "output_type": "execute_result"
        }
      ],
      "source": [
        "model"
      ]
    },
    {
      "cell_type": "markdown",
      "metadata": {
        "id": "y5Do_XrByEcU"
      },
      "source": [
        "## Parsing the model's response\n",
        "\n",
        "The response from the model is an `AIMessage` instance containing the answer. We can extract the text answer by using the appropriate output parser. We can connect the model and the parser using a chain.\n",
        "\n",
        "<img src='images/parser.png' width=\"1000\">"
      ]
    },
    {
      "cell_type": "code",
      "execution_count": null,
      "metadata": {
        "colab": {
          "base_uri": "https://localhost:8080/"
        },
        "id": "0GU2255KyEcU",
        "outputId": "8aa2469e-85fa-4f56-ff1c-4195f52bbc5f",
        "tags": []
      },
      "outputs": [
        {
          "name": "stdout",
          "output_type": "stream",
          "text": [
            "อุตสาหกรรมที่คาดว่าจะมีการขยายตัวในปี 2566 ได้แก่\n",
            "\n",
            "1. อุตสาหกรรมเทคโนโลยี: อุตสาหกรรมเทคโนโลยี เช่น เทคโนโลยีสารสนเทศ, เทคโนโลยีเครื่องจักร, เทคโนโลยีชีวภาพ, เทคโนโลยีพลังงาน, เทคโนโลยีการสื่อสารมวลชน เป็นต้น คาดว่าจะมีการขยายตัวอย่างมากในปี 2566 เนื่องจากความต้องการเทคโนโลยีที่ทันสมัยและความสามารถในการปรับตัวเข้ากับเทคโนโลยีใหม่ๆ\n",
            "\n",
            "2. อุตสาหกรรมการแพทย์: อุตสาหกรรมการแพทย์ เช่น อุตสาหกรรมผลิตยา, อุตสาหกรรมผลิตอุปกรณ์ทางการแพทย์, อุตสาหกรรมผลิตเครื่องมือทางการแพทย์ เป็นต้น คาดว่าจะมีการขยายตัวในปี 2566 เนื่องจากความต้องการด้านสุขภาพที่เพิ่มขึ้นและความสามารถในการพัฒนาเทคโนโลยีการแพทย์ที่ทันสมัย\n",
            "\n",
            "3. อุตสาหกรรมการเกษตร: อุตสาหกรรมการเกษตร เช่น อุตสาหกรรมผลิตอาหาร, อุตสาหกรรมผลิตผลิตภัณฑ์จากพืช, อุตสาหกรรมผลิตผลิตภัณฑ์จากสัตว์ เป็นต้น คาดว่าจะมีการขยายตัวในปี 2566 เนื่องจากความต้องการอาหารที่เพิ่มขึ้นและความสามารถในการพัฒนาเทคโนโลยีการเกษตรที่ทันสมัย\n",
            "\n",
            "4. อุตสาหกรรมการขนส่ง: อุตสาหกรรมการขนส่ง เช่น อุตสาหกรรมรถยนต์, อุตสาหกรรมเครื่องบิน, อุตสาหกรรมเรือ เป็นต้น คาดว่าจะมีการขยายตัวในปี 2566 เนื่องจากความต้องการการขนส่งที่เพิ่มขึ้นและความสามารถในการพัฒนาเทคโนโลยีการขนส่งที่ทันสมัย\n",
            "\n",
            "5. อุตสาหกรรมการเงิน: อุตสาหกรรมการเงิน เช่น อุตสาหกรรมธนาคาร, อุตสาหกรรมประกันภัย, อุตสาหกรรมการลงทุน เป็นต้น คาดว่าจะมีการขยายตัวในปี 2566 เนื่องจากความต้องการการเงินที่เพิ่มขึ้นและความสามารถในการพัฒนาเทคโนโลยีการเงินที่ทันสมัย\n",
            "\n",
            "6. อุตสาหกรรมการท่องเที่ยว: อุตสาหกรรมการท่องเที่ยว เช่น อุตสาหกรรมโรงแรม, อุตสาหกรรมร้านอาหาร, อุตสาหกรรมบริการท่องเที่ยว เป็นต้น คาดว่าจะมีการขยายตัวในปี 2566 เนื่องจากความต้องการการท่องเที่ยวที่เพิ่มขึ้นและความสามารถในการพัฒนาเทคโนโลยีการท่องเที่ยวที่ทันสมัย\n",
            "\n",
            "7. อุตสาหกรรมผลิตสินค้า: อุตสาหกรรมผลิตสินค้า เช่น อุตสาหกรรมผลิตเครื่องใช้ไฟฟ้า, อุตสาหกรรมผลิตเครื่องมือ, อุตสาหกรรมผลิตสินค้าจากพลาสติก เป็นต้น คาดว่าจะมีการขยายตัวในปี 2566 เนื่องจากความต้องการสินค้าที่เพิ่มขึ้นและความสามารถในการพัฒนาเทคโนโลยีการผลิตที่ทันสมัย\n",
            "\n",
            "8. อุตสาหกรรมการบิน: อุตสาหกรรมการบิน เช่น อุตสาหกรรมเครื่องบิน, อุตสาหกรรมการบิน, อุตสาหกรรมบริการการบิน เป็นต้น คาดว่าจะมีการขยายตัวในปี 2566 เนื่องจากความต้องการการบินที่เพิ่มขึ้นและความสามารถในการพัฒนาเทคโนโลยีการบินที่ทันสมัย\n",
            "\n",
            "9. อุตสาหกรรมการประมง: อุตสาหกรรมการประมง เช่น อุตสาหกรรมประมง, อุตสาหกรรมผลิตอาหารจากปลา, อุตสาหกรรมผลิตผลิตภัณฑ์จากปลา เป็นต้น คาดว่าจะมีการขยายตัวในปี 2566 เนื่องจากความต้องการอาหารจากปลาที่เพิ่มขึ้นและความสามารถในการพัฒนาเทคโนโลยีการประมงที่ทันสมัย\n",
            "\n",
            "10. อุตสาหกรรมการผลิตพลังงาน: อุตสาหกรรมการผลิตพลังงาน เช่น อุตสาหกรรมผลิตไฟฟ้า, อุตสาหกรรมผลิตก๊าซธรรมชาติ, อุตสาหกรรมผลิตน้ำมัน เป็นต้น คาดว่าจะมีการขยายตัวในปี 2566 เนื่องจากความต้องการพลังงานที่เพิ่มขึ้นและความสามารถในการพัฒนาเทคโนโลยีการผลิตพลังงานที่ทันสมัย\n"
          ]
        }
      ],
      "source": [
        "from langchain_core.output_parsers import StrOutputParser\n",
        "\n",
        "parser = StrOutputParser()\n",
        "\n",
        "chain = model | parser\n",
        "print(chain.invoke(\"อุตสาหกรรมที่คาดว่าจะมีการขยายตัวในปี 2566\"))"
      ]
    },
    {
      "cell_type": "markdown",
      "metadata": {
        "id": "HPYY_II_yEcU"
      },
      "source": [
        "## Setting up a prompt\n",
        "\n",
        "In addition to the question we want to ask, we also want to provide the model with the context from the PDF file. We can use a prompt template to define and reuse the prompt we'll use with the model.\n",
        "\n",
        "<img src='images/prompt.png' width=\"1000\">"
      ]
    },
    {
      "cell_type": "code",
      "execution_count": null,
      "metadata": {
        "colab": {
          "base_uri": "https://localhost:8080/"
        },
        "id": "wSBmIFC4yEcU",
        "outputId": "68574fb8-275a-4806-ff29-c052261124d6",
        "tags": []
      },
      "outputs": [
        {
          "name": "stdout",
          "output_type": "stream",
          "text": [
            "\n",
            "You are an assistant that provides answers to questions based on\n",
            "a given context.\n",
            "\n",
            "Alwasy answer the question based on the context in Thai. If you can't answer the\n",
            "question, reply \"ฉันมีข้อมูลไม่เพียงพอ\".\n",
            "\n",
            "Be as concise as possible and go straight to the point.\n",
            "\n",
            "Context: นี่คือ context\n",
            "\n",
            "Question: นีคือคำถาม\n",
            "\n"
          ]
        }
      ],
      "source": [
        "from langchain.prompts import PromptTemplate\n",
        "\n",
        "template = \"\"\"\n",
        "You are an assistant that provides answers to questions based on\n",
        "a given context.\n",
        "\n",
        "Alwasy answer the question based on the context in Thai. If you can't answer the\n",
        "question, reply \"ฉันมีข้อมูลไม่เพียงพอ\".\n",
        "\n",
        "Be as concise as possible and go straight to the point.\n",
        "\n",
        "Context: {context}\n",
        "\n",
        "Question: {question}\n",
        "\"\"\"\n",
        "\n",
        "prompt = PromptTemplate.from_template(template)\n",
        "print(prompt.format(context=\"นี่คือ context\", question=\"นีคือคำถาม\"))"
      ]
    },
    {
      "cell_type": "markdown",
      "metadata": {
        "id": "k7B-HVWpyEcV"
      },
      "source": [
        "## Adding the prompt to the chain\n",
        "\n",
        "We can now chain the prompt with the model and the parser.\n",
        "\n",
        "<img src='images/chain1.png' width=\"1000\">"
      ]
    },
    {
      "cell_type": "code",
      "execution_count": null,
      "metadata": {
        "colab": {
          "base_uri": "https://localhost:8080/",
          "height": 35
        },
        "id": "Q-4lsbRcyEcV",
        "outputId": "a2701e03-d87f-4c76-abfe-aefa65a0e0b1",
        "tags": []
      },
      "outputs": [
        {
          "data": {
            "application/vnd.google.colaboratory.intrinsic+json": {
              "type": "string"
            },
            "text/plain": [
              "'แอนนา'"
            ]
          },
          "execution_count": 36,
          "metadata": {},
          "output_type": "execute_result"
        }
      ],
      "source": [
        "chain = prompt | model | parser\n",
        "\n",
        "chain.invoke({\n",
        "    \"context\": \"Anna's sister is Susan\",\n",
        "    \"question\": \"Who is Susan's sister?\"\n",
        "})\n"
      ]
    },
    {
      "cell_type": "markdown",
      "metadata": {
        "id": "VtmsVulZyEcV"
      },
      "source": [
        "## Adding the retriever to the chain\n",
        "\n",
        "Finally, we can connect the retriever to the chain to get the context from the vector store.\n",
        "\n",
        "<img src='images/chain2.png' width=\"1000\">"
      ]
    },
    {
      "cell_type": "code",
      "execution_count": null,
      "metadata": {
        "id": "-3m8jdILyEcV",
        "tags": []
      },
      "outputs": [],
      "source": [
        "from operator import itemgetter\n",
        "\n",
        "chain = (\n",
        "    {\n",
        "        \"context\": itemgetter(\"question\") | retriever,\n",
        "        \"question\": itemgetter(\"question\"),\n",
        "    }\n",
        "    | prompt\n",
        "    | model\n",
        "    | parser\n",
        ")"
      ]
    },
    {
      "cell_type": "markdown",
      "metadata": {
        "id": "owBpnyyEyEcV"
      },
      "source": [
        "## Using the chain to answer questions\n",
        "\n",
        "Finally, we can use the chain to ask questions that will be answered using the PDF document."
      ]
    },
    {
      "cell_type": "code",
      "execution_count": null,
      "metadata": {
        "colab": {
          "base_uri": "https://localhost:8080/"
        },
        "id": "5DgBzHGhyEcW",
        "outputId": "10c0d176-cfa3-4b14-85f9-cc67d727ce8b"
      },
      "outputs": [
        {
          "name": "stdout",
          "output_type": "stream",
          "text": [
            "Question: อุตสาหกรรมที่คาดว่าจะมีการขยายตัวในปี 2566\n",
            "Answer: ภาคบริการ\n",
            "*************************\n",
            "\n",
            "Question: จงสรุปภาพรวมด้านอัตราเงินเฟ้อและเศรษฐกิจภาคครัวเรือน\n",
            "Answer: ภาพรวมด้านอัตราเงินเฟ้อและเศรษฐกิจภาคครัวเรือนในปี 2566 มีดังนี้\n",
            "\n",
            "* ดัชนีราคาผู้บริโภคพื้นฐาน (ไม่รวมราคาอาหารสดและพลังงาน) เพิ่มขึ้น 2.51%\n",
            "* อัตราการว่างงานอยู่ที่ 1.3%\n",
            "* หนี้สาธารณะ ณ สิ้นงวดอยู่ที่ 10,587 พันล้านบาท\n",
            "* สัดส่วนหนี้สาธารณะต่อ GDP อยู่ที่ 60.9%\n",
            "*************************\n",
            "\n",
            "Question: แนวโน้มเศรษฐกิจไทยในอนาคตจะเป็นอย่างไร\n",
            "Answer: แนวโน้มเศรษฐกิจไทยในอนาคตมีความไม่แน่นอนและผันผวน เนื่องจากมีปัจจัยหลายอย่างที่มีอิทธิพล เช่น ความขัดแย้งด้านภูมิรัฐศาสตร์ เศรษฐกิจและตลาดการเงินโลกที่มีความไม่แน่นอน และความสามารถในการเร่งเบิกจ่ายของภาครัฐหลังงบประมาณปี 2567\n",
            "*************************\n",
            "\n",
            "Question: ความเสี่ยงในอนาคตที่ไทยควรเตรียมรับมือ\n",
            "Answer: ความเสี่ยงในอนาคตที่ไทยควรเตรียมรับมือ ได้แก่ ความไม่แน่นอนและผันผวนของเศรษฐกิจและตลาดการเงินโลก, ความขัดแย้งด้านภูมิรัฐศาสตร์, และความสามารถในการเร่งเบิกจ่ายของภาครัฐหลังงบประมาณปี 2567\n",
            "*************************\n",
            "\n"
          ]
        }
      ],
      "source": [
        "questions = [\n",
        "    \"อุตสาหกรรมที่คาดว่าจะมีการขยายตัวในปี 2566\",\n",
        "    \"จงสรุปภาพรวมด้านอัตราเงินเฟ้อและเศรษฐกิจภาคครัวเรือน\",\n",
        "    \"แนวโน้มเศรษฐกิจไทยในอนาคตจะเป็นอย่างไร\",\n",
        "    \"ความเสี่ยงในอนาคตที่ไทยควรเตรียมรับมือ\",\n",
        "]\n",
        "\n",
        "for question in questions:\n",
        "    print(f\"Question: {question}\")\n",
        "    print(f\"Answer: {chain.invoke({'question': question})}\")\n",
        "    print(\"*************************\\n\")"
      ]
    },
    {
      "cell_type": "code",
      "execution_count": null,
      "metadata": {
        "id": "P5hd4YHAyEcW"
      },
      "outputs": [],
      "source": []
    }
  ],
  "metadata": {
    "colab": {
      "provenance": []
    },
    "kernelspec": {
      "display_name": "Pytorch+NGC on Kubernetes Operator 240702161026",
      "language": "python",
      "name": "jupyter-eg-kernel-k8s-cmjkop-ngc-py-1i26n1a82"
    },
    "language_info": {
      "codemirror_mode": {
        "name": "ipython",
        "version": 3
      },
      "file_extension": ".py",
      "mimetype": "text/x-python",
      "name": "python",
      "nbconvert_exporter": "python",
      "pygments_lexer": "ipython3",
      "version": "3.10.12"
    }
  },
  "nbformat": 4,
  "nbformat_minor": 0
}
