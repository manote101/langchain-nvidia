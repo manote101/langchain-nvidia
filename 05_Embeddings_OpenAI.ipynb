{
  "nbformat": 4,
  "nbformat_minor": 0,
  "metadata": {
    "colab": {
      "provenance": []
    },
    "kernelspec": {
      "name": "python3",
      "display_name": "Python 3"
    },
    "language_info": {
      "name": "python"
    }
  },
  "cells": [
    {
      "cell_type": "code",
      "source": [
        "!pip install -qq langchain-openai tiktoken"
      ],
      "metadata": {
        "colab": {
          "base_uri": "https://localhost:8080/"
        },
        "id": "weLQJ9ZinuL1",
        "outputId": "d06a56da-780a-4f10-a198-6b3a8f29afe7"
      },
      "execution_count": 5,
      "outputs": [
        {
          "output_type": "stream",
          "name": "stdout",
          "text": [
            "\u001b[?25l   \u001b[90m━━━━━━━━━━━━━━━━━━━━━━━━━━━━━━━━━━━━━━━━\u001b[0m \u001b[32m0.0/50.7 kB\u001b[0m \u001b[31m?\u001b[0m eta \u001b[36m-:--:--\u001b[0m\r\u001b[2K   \u001b[90m━━━━━━━━━━━━━━━━━━━━━━━━━━━━━━━━━━━━━━━━\u001b[0m \u001b[32m50.7/50.7 kB\u001b[0m \u001b[31m2.4 MB/s\u001b[0m eta \u001b[36m0:00:00\u001b[0m\n",
            "\u001b[?25h"
          ]
        }
      ]
    },
    {
      "cell_type": "code",
      "execution_count": 6,
      "metadata": {
        "colab": {
          "base_uri": "https://localhost:8080/"
        },
        "id": "HsYzPYo0nZf6",
        "outputId": "c26db25b-8db9-4d09-af35-ee5c1ed8fd46"
      },
      "outputs": [
        {
          "output_type": "stream",
          "name": "stdout",
          "text": [
            "Query: What's a good companion animal?\n",
            "Most Similar Sentence: 'Dogs are great friends to humans.' with similarity score: 0.8562\n"
          ]
        }
      ],
      "source": [
        "import os\n",
        "import numpy as np\n",
        "from langchain_openai import OpenAIEmbeddings\n",
        "from sklearn.metrics.pairwise import cosine_similarity\n",
        "\n",
        "# Get secret key from Colab repository\n",
        "from google.colab import userdata\n",
        "os.environ['OPENAI_API_KEY'] = userdata.get('OPENAI_API_KEY')\n",
        "\n",
        "# Load the OpenAI API Key from environment\n",
        "openai_api_key = os.getenv(\"OPENAI_API_KEY\")\n",
        "\n",
        "if not openai_api_key:\n",
        "    raise ValueError(\"Please set the environment variable for 'OPENAI_API_KEY'\")\n",
        "\n",
        "# Sample list of sentences\n",
        "sentences = [\n",
        "    \"The cat sits on the mat.\",\n",
        "    \"Dogs are great friends to humans.\",\n",
        "    \"Birds can fly high in the sky.\",\n",
        "    \"It is raining cats and dogs.\",\n",
        "    \"The sky is blue and the sun is shining.\"\n",
        "]\n",
        "\n",
        "# Initialize the embeddings model\n",
        "embedding_model = OpenAIEmbeddings(openai_api_key=openai_api_key)\n",
        "\n",
        "# Convert sentences to embeddings\n",
        "sentence_embeddings = embedding_model.embed_documents(sentences)\n",
        "\n",
        "# Function to find the most similar sentence\n",
        "def find_most_similar(query):\n",
        "    # Convert query to embedding\n",
        "    query_embedding = embedding_model.embed_query(query)\n",
        "\n",
        "    # Calculate cosine similarity between the query vector and sentence vectors\n",
        "    similarities = cosine_similarity([query_embedding], sentence_embeddings)[0]\n",
        "\n",
        "    # Find the index of the highest similarity score\n",
        "    most_similar_index = np.argmax(similarities)\n",
        "\n",
        "    return sentences[most_similar_index], similarities[most_similar_index]\n",
        "\n",
        "# Sample usage\n",
        "query_text = \"What's a good companion animal?\"\n",
        "most_similar_sentence, similarity_score = find_most_similar(query_text)\n",
        "\n",
        "print(f\"Query: {query_text}\")\n",
        "print(f\"Most Similar Sentence: '{most_similar_sentence}' with similarity score: {similarity_score:.4f}\")"
      ]
    },
    {
      "cell_type": "code",
      "source": [
        "# Display OpenAI Embedding model name\n",
        "embedding_model.model"
      ],
      "metadata": {
        "colab": {
          "base_uri": "https://localhost:8080/",
          "height": 35
        },
        "id": "oypzb_xG8GX4",
        "outputId": "fec3eaba-bb41-4c26-98a7-da26e30a4c23"
      },
      "execution_count": 7,
      "outputs": [
        {
          "output_type": "execute_result",
          "data": {
            "text/plain": [
              "'text-embedding-ada-002'"
            ],
            "application/vnd.google.colaboratory.intrinsic+json": {
              "type": "string"
            }
          },
          "metadata": {},
          "execution_count": 7
        }
      ]
    },
    {
      "cell_type": "code",
      "source": [
        "type(sentence_embeddings)"
      ],
      "metadata": {
        "colab": {
          "base_uri": "https://localhost:8080/"
        },
        "id": "Yzf_Fbo5pJHe",
        "outputId": "0315ce51-6540-4209-f9fc-779f9e86ff88"
      },
      "execution_count": 8,
      "outputs": [
        {
          "output_type": "execute_result",
          "data": {
            "text/plain": [
              "list"
            ]
          },
          "metadata": {},
          "execution_count": 8
        }
      ]
    },
    {
      "cell_type": "code",
      "source": [
        "len(sentence_embeddings[0])"
      ],
      "metadata": {
        "colab": {
          "base_uri": "https://localhost:8080/"
        },
        "id": "KffYSdbQp1WA",
        "outputId": "20911eb6-759a-48f4-f952-d7dc0a72ff80"
      },
      "execution_count": 9,
      "outputs": [
        {
          "output_type": "execute_result",
          "data": {
            "text/plain": [
              "1536"
            ]
          },
          "metadata": {},
          "execution_count": 9
        }
      ]
    },
    {
      "cell_type": "code",
      "source": [
        "# prompt: show first 10 values of sentence_embeddings[0]\n",
        "\n",
        "print(sentence_embeddings[0][:10])"
      ],
      "metadata": {
        "colab": {
          "base_uri": "https://localhost:8080/"
        },
        "id": "3k1TDFzBqLY6",
        "outputId": "525de186-2e2e-415d-f029-26577f49f779"
      },
      "execution_count": 10,
      "outputs": [
        {
          "output_type": "stream",
          "name": "stdout",
          "text": [
            "[0.004806076642125845, -0.009483648464083672, -0.016628511250019073, -0.012934001162648201, -0.012240075506269932, 0.008121498860418797, -0.007453274447470903, -0.038525719195604324, -0.007710283622145653, 0.0006778624374419451]\n"
          ]
        }
      ]
    },
    {
      "cell_type": "code",
      "source": [
        "print(sentence_embeddings[1][:10])"
      ],
      "metadata": {
        "colab": {
          "base_uri": "https://localhost:8080/"
        },
        "id": "bsppbRhtqfD-",
        "outputId": "162e0e8b-59e3-4b24-aadd-2ef68613d45b"
      },
      "execution_count": 11,
      "outputs": [
        {
          "output_type": "stream",
          "name": "stdout",
          "text": [
            "[0.012955625541508198, -0.0018508036155253649, 0.005934372078627348, -0.0335877388715744, -0.013849973678588867, 0.018259605392813683, 0.002693912945687771, -0.007042990997433662, -0.004701538011431694, -0.014495891518890858]\n"
          ]
        }
      ]
    },
    {
      "cell_type": "code",
      "source": [
        "print(sentence_embeddings[2][:10])"
      ],
      "metadata": {
        "colab": {
          "base_uri": "https://localhost:8080/"
        },
        "id": "G-HcaZj3qfLQ",
        "outputId": "02e05763-6a7d-4d22-bf8d-47c689989a1e"
      },
      "execution_count": 12,
      "outputs": [
        {
          "output_type": "stream",
          "name": "stdout",
          "text": [
            "[0.004376836586743593, -0.029178909957408905, -0.0019395208219066262, -0.018847322091460228, 0.004758791998028755, 0.01974898763000965, -0.011558855883777142, -0.022641832008957863, -0.0008570522186346352, -0.020450282841920853]\n"
          ]
        }
      ]
    },
    {
      "cell_type": "code",
      "source": [
        "# prompt: print first 10 values of sentence_embedding with 4 precision\n",
        "\n",
        "for i in range(3):\n",
        "    print(np.round(sentence_embeddings[i][:10], 4))"
      ],
      "metadata": {
        "colab": {
          "base_uri": "https://localhost:8080/"
        },
        "id": "lgF7-XDsCagc",
        "outputId": "948f6010-ff4d-48e0-fa90-10c3ac2eb2c5"
      },
      "execution_count": 13,
      "outputs": [
        {
          "output_type": "stream",
          "name": "stdout",
          "text": [
            "[ 0.0048 -0.0095 -0.0166 -0.0129 -0.0122  0.0081 -0.0075 -0.0385 -0.0077\n",
            "  0.0007]\n",
            "[ 0.013  -0.0019  0.0059 -0.0336 -0.0138  0.0183  0.0027 -0.007  -0.0047\n",
            " -0.0145]\n",
            "[ 0.0044 -0.0292 -0.0019 -0.0188  0.0048  0.0197 -0.0116 -0.0226 -0.0009\n",
            " -0.0205]\n"
          ]
        }
      ]
    },
    {
      "cell_type": "code",
      "source": [],
      "metadata": {
        "id": "jyasfp0HqcmK"
      },
      "execution_count": null,
      "outputs": []
    },
    {
      "cell_type": "code",
      "source": [],
      "metadata": {
        "id": "1juDu3vRqco-"
      },
      "execution_count": null,
      "outputs": []
    },
    {
      "cell_type": "code",
      "source": [],
      "metadata": {
        "id": "nCXZSQSsqcrs"
      },
      "execution_count": null,
      "outputs": []
    }
  ]
}
