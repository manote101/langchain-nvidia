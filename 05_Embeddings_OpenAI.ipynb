{
  "nbformat": 4,
  "nbformat_minor": 0,
  "metadata": {
    "colab": {
      "provenance": []
    },
    "kernelspec": {
      "name": "python3",
      "display_name": "Python 3"
    },
    "language_info": {
      "name": "python"
    }
  },
  "cells": [
    {
      "cell_type": "code",
      "source": [
        "!pip install -qq langchain_community tiktoken"
      ],
      "metadata": {
        "colab": {
          "base_uri": "https://localhost:8080/"
        },
        "id": "weLQJ9ZinuL1",
        "outputId": "a6a023c2-f8db-4750-a18d-f53e7772514f"
      },
      "execution_count": 2,
      "outputs": [
        {
          "output_type": "stream",
          "name": "stdout",
          "text": [
            "\u001b[?25l   \u001b[90m━━━━━━━━━━━━━━━━━━━━━━━━━━━━━━━━━━━━━━━━\u001b[0m \u001b[32m0.0/2.4 MB\u001b[0m \u001b[31m?\u001b[0m eta \u001b[36m-:--:--\u001b[0m\r\u001b[2K   \u001b[91m━━━━━━━━━━━━━━━━━━━━━━━━━━━━━━━━━━━━━━━\u001b[0m\u001b[91m╸\u001b[0m \u001b[32m2.4/2.4 MB\u001b[0m \u001b[31m142.6 MB/s\u001b[0m eta \u001b[36m0:00:01\u001b[0m\r\u001b[2K   \u001b[90m━━━━━━━━━━━━━━━━━━━━━━━━━━━━━━━━━━━━━━━━\u001b[0m \u001b[32m2.4/2.4 MB\u001b[0m \u001b[31m66.1 MB/s\u001b[0m eta \u001b[36m0:00:00\u001b[0m\n",
            "\u001b[?25h\u001b[?25l   \u001b[90m━━━━━━━━━━━━━━━━━━━━━━━━━━━━━━━━━━━━━━━━\u001b[0m \u001b[32m0.0/1.2 MB\u001b[0m \u001b[31m?\u001b[0m eta \u001b[36m-:--:--\u001b[0m\r\u001b[2K   \u001b[90m━━━━━━━━━━━━━━━━━━━━━━━━━━━━━━━━━━━━━━━━\u001b[0m \u001b[32m1.2/1.2 MB\u001b[0m \u001b[31m55.0 MB/s\u001b[0m eta \u001b[36m0:00:00\u001b[0m\n",
            "\u001b[?25h\u001b[?25l   \u001b[90m━━━━━━━━━━━━━━━━━━━━━━━━━━━━━━━━━━━━━━━━\u001b[0m \u001b[32m0.0/1.0 MB\u001b[0m \u001b[31m?\u001b[0m eta \u001b[36m-:--:--\u001b[0m\r\u001b[2K   \u001b[90m━━━━━━━━━━━━━━━━━━━━━━━━━━━━━━━━━━━━━━━━\u001b[0m \u001b[32m1.0/1.0 MB\u001b[0m \u001b[31m50.7 MB/s\u001b[0m eta \u001b[36m0:00:00\u001b[0m\n",
            "\u001b[?25h\u001b[?25l   \u001b[90m━━━━━━━━━━━━━━━━━━━━━━━━━━━━━━━━━━━━━━━━\u001b[0m \u001b[32m0.0/409.5 kB\u001b[0m \u001b[31m?\u001b[0m eta \u001b[36m-:--:--\u001b[0m\r\u001b[2K   \u001b[90m━━━━━━━━━━━━━━━━━━━━━━━━━━━━━━━━━━━━━━━━\u001b[0m \u001b[32m409.5/409.5 kB\u001b[0m \u001b[31m28.8 MB/s\u001b[0m eta \u001b[36m0:00:00\u001b[0m\n",
            "\u001b[?25h\u001b[?25l   \u001b[90m━━━━━━━━━━━━━━━━━━━━━━━━━━━━━━━━━━━━━━━━\u001b[0m \u001b[32m0.0/49.5 kB\u001b[0m \u001b[31m?\u001b[0m eta \u001b[36m-:--:--\u001b[0m\r\u001b[2K   \u001b[90m━━━━━━━━━━━━━━━━━━━━━━━━━━━━━━━━━━━━━━━━\u001b[0m \u001b[32m49.5/49.5 kB\u001b[0m \u001b[31m4.2 MB/s\u001b[0m eta \u001b[36m0:00:00\u001b[0m\n",
            "\u001b[?25h"
          ]
        }
      ]
    },
    {
      "cell_type": "code",
      "execution_count": 5,
      "metadata": {
        "colab": {
          "base_uri": "https://localhost:8080/"
        },
        "id": "HsYzPYo0nZf6",
        "outputId": "12970c60-1818-4e53-b564-631db474df34"
      },
      "outputs": [
        {
          "output_type": "stream",
          "name": "stderr",
          "text": [
            "<ipython-input-5-cdeed9b5c19e>:26: LangChainDeprecationWarning: The class `OpenAIEmbeddings` was deprecated in LangChain 0.0.9 and will be removed in 1.0. An updated version of the class exists in the :class:`~langchain-openai package and should be used instead. To use it run `pip install -U :class:`~langchain-openai` and import as `from :class:`~langchain_openai import OpenAIEmbeddings``.\n",
            "  embedding_model = OpenAIEmbeddings(openai_api_key=openai_api_key)\n"
          ]
        },
        {
          "output_type": "stream",
          "name": "stdout",
          "text": [
            "Query: What's a good companion animal?\n",
            "Most Similar Sentence: 'Dogs are great friends to humans.' with similarity score: 0.8562\n"
          ]
        }
      ],
      "source": [
        "import os\n",
        "import numpy as np\n",
        "from langchain.embeddings import OpenAIEmbeddings\n",
        "from sklearn.metrics.pairwise import cosine_similarity\n",
        "\n",
        "# Get secret key from Colab repository\n",
        "from google.colab import userdata\n",
        "os.environ['OPENAI_API_KEY'] = userdata.get('OPENAI_API_KEY')\n",
        "\n",
        "# Load the OpenAI API Key from environment\n",
        "openai_api_key = os.getenv(\"OPENAI_API_KEY\")\n",
        "\n",
        "if not openai_api_key:\n",
        "    raise ValueError(\"Please set the environment variable for 'OPENAI_API_KEY'\")\n",
        "\n",
        "# Sample list of sentences\n",
        "sentences = [\n",
        "    \"The cat sits on the mat.\",\n",
        "    \"Dogs are great friends to humans.\",\n",
        "    \"Birds can fly high in the sky.\",\n",
        "    \"It is raining cats and dogs.\",\n",
        "    \"The sky is blue and the sun is shining.\"\n",
        "]\n",
        "\n",
        "# Initialize the embeddings model\n",
        "embedding_model = OpenAIEmbeddings(openai_api_key=openai_api_key)\n",
        "\n",
        "# Convert sentences to embeddings\n",
        "sentence_embeddings = embedding_model.embed_documents(sentences)\n",
        "\n",
        "# Function to find the most similar sentence\n",
        "def find_most_similar(query):\n",
        "    # Convert query to embedding\n",
        "    query_embedding = embedding_model.embed_query(query)\n",
        "\n",
        "    # Calculate cosine similarity between the query vector and sentence vectors\n",
        "    similarities = cosine_similarity([query_embedding], sentence_embeddings)[0]\n",
        "\n",
        "    # Find the index of the highest similarity score\n",
        "    most_similar_index = np.argmax(similarities)\n",
        "\n",
        "    return sentences[most_similar_index], similarities[most_similar_index]\n",
        "\n",
        "# Sample usage\n",
        "query_text = \"What's a good companion animal?\"\n",
        "most_similar_sentence, similarity_score = find_most_similar(query_text)\n",
        "\n",
        "print(f\"Query: {query_text}\")\n",
        "print(f\"Most Similar Sentence: '{most_similar_sentence}' with similarity score: {similarity_score:.4f}\")"
      ]
    },
    {
      "cell_type": "code",
      "source": [
        "type(sentence_embeddings)"
      ],
      "metadata": {
        "colab": {
          "base_uri": "https://localhost:8080/"
        },
        "id": "Yzf_Fbo5pJHe",
        "outputId": "9c492479-15f2-4ba6-8803-382c623d922a"
      },
      "execution_count": null,
      "outputs": [
        {
          "output_type": "execute_result",
          "data": {
            "text/plain": [
              "list"
            ]
          },
          "metadata": {},
          "execution_count": 9
        }
      ]
    },
    {
      "cell_type": "code",
      "source": [
        "len(sentence_embeddings[0])"
      ],
      "metadata": {
        "colab": {
          "base_uri": "https://localhost:8080/"
        },
        "id": "KffYSdbQp1WA",
        "outputId": "4d1fbf58-3f49-4352-bd4f-fc2ea7ee0708"
      },
      "execution_count": null,
      "outputs": [
        {
          "output_type": "execute_result",
          "data": {
            "text/plain": [
              "1536"
            ]
          },
          "metadata": {},
          "execution_count": 11
        }
      ]
    },
    {
      "cell_type": "code",
      "source": [
        "# prompt: show first 10 values of sentence_embeddings[0]\n",
        "\n",
        "print(sentence_embeddings[0][:10])"
      ],
      "metadata": {
        "colab": {
          "base_uri": "https://localhost:8080/"
        },
        "id": "3k1TDFzBqLY6",
        "outputId": "0178e94a-288c-4fdc-b733-579163f972e7"
      },
      "execution_count": null,
      "outputs": [
        {
          "output_type": "stream",
          "name": "stdout",
          "text": [
            "[0.004806076490008293, -0.009483648163915885, -0.01662851072370861, -0.012934000753272999, -0.012240075118858232, 0.008121498603364526, -0.007453274211566662, -0.038525717976223416, -0.007710283378106792, 0.0006778624159868618]\n"
          ]
        }
      ]
    },
    {
      "cell_type": "code",
      "source": [
        "print(sentence_embeddings[1][:10])"
      ],
      "metadata": {
        "colab": {
          "base_uri": "https://localhost:8080/"
        },
        "id": "bsppbRhtqfD-",
        "outputId": "e63b1b92-8ce4-449a-961d-2abd73081eec"
      },
      "execution_count": null,
      "outputs": [
        {
          "output_type": "stream",
          "name": "stdout",
          "text": [
            "[0.012955625976274776, -0.001850803677634875, 0.005934372277773783, -0.03358773999871614, -0.013849974143368098, 0.018259606005571912, 0.0026939130360904544, -0.007042991233783277, -0.004701538169206522, -0.014495892005345883]\n"
          ]
        }
      ]
    },
    {
      "cell_type": "code",
      "source": [
        "print(sentence_embeddings[2][:10])"
      ],
      "metadata": {
        "colab": {
          "base_uri": "https://localhost:8080/"
        },
        "id": "G-HcaZj3qfLQ",
        "outputId": "e57e8ec1-90e0-4229-a0ef-a156bf58a623"
      },
      "execution_count": null,
      "outputs": [
        {
          "output_type": "stream",
          "name": "stdout",
          "text": [
            "[0.0043768366064208955, -0.029178910088590915, -0.0019395208306262886, -0.018847322176193674, 0.0047587920194232455, 0.01974898771879679, -0.011558855935743234, -0.022641832110750597, -0.000857052222487755, -0.02045028293386086]\n"
          ]
        }
      ]
    },
    {
      "cell_type": "code",
      "source": [
        "# prompt: print first 10 values of sentence_embedding with 4 precision\n",
        "\n",
        "for i in range(3):\n",
        "    print(np.round(sentence_embeddings[i][:10], 4))"
      ],
      "metadata": {
        "colab": {
          "base_uri": "https://localhost:8080/"
        },
        "id": "lgF7-XDsCagc",
        "outputId": "d53a47ab-2223-489e-e21d-cdfe4c37d253"
      },
      "execution_count": 9,
      "outputs": [
        {
          "output_type": "stream",
          "name": "stdout",
          "text": [
            "[ 0.0048 -0.0095 -0.0166 -0.0129 -0.0122  0.0081 -0.0075 -0.0385 -0.0077\n",
            "  0.0007]\n",
            "[ 0.013  -0.0019  0.0059 -0.0336 -0.0138  0.0183  0.0027 -0.007  -0.0047\n",
            " -0.0145]\n",
            "[ 0.0044 -0.0292 -0.0019 -0.0188  0.0048  0.0197 -0.0116 -0.0226 -0.0009\n",
            " -0.0205]\n"
          ]
        }
      ]
    },
    {
      "cell_type": "code",
      "source": [],
      "metadata": {
        "id": "jyasfp0HqcmK"
      },
      "execution_count": null,
      "outputs": []
    },
    {
      "cell_type": "code",
      "source": [],
      "metadata": {
        "id": "1juDu3vRqco-"
      },
      "execution_count": null,
      "outputs": []
    },
    {
      "cell_type": "code",
      "source": [],
      "metadata": {
        "id": "nCXZSQSsqcrs"
      },
      "execution_count": null,
      "outputs": []
    }
  ]
}
