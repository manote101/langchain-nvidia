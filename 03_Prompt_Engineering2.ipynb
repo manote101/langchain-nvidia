{
  "cells": [
    {
      "cell_type": "code",
      "execution_count": null,
      "id": "28f4773c-7113-43ee-b85e-2b331d5ca475",
      "metadata": {
        "id": "28f4773c-7113-43ee-b85e-2b331d5ca475"
      },
      "outputs": [],
      "source": [
        "# %env NVIDIA_API_KEY=nvapi-1234567890abcdef   # replace with your API key"
      ]
    },
    {
      "cell_type": "code",
      "execution_count": null,
      "id": "bca158aa-1ac5-4278-9ef4-fe611f25aaaf",
      "metadata": {
        "tags": [],
        "id": "bca158aa-1ac5-4278-9ef4-fe611f25aaaf",
        "colab": {
          "base_uri": "https://localhost:8080/"
        },
        "outputId": "e4541a01-5974-4b19-eeef-504ac8067cf3"
      },
      "outputs": [
        {
          "output_type": "stream",
          "name": "stdout",
          "text": [
            "\u001b[2K     \u001b[90m━━━━━━━━━━━━━━━━━━━━━━━━━━━━━━━━━━━━━━━━\u001b[0m \u001b[32m50.4/50.4 kB\u001b[0m \u001b[31m607.0 kB/s\u001b[0m eta \u001b[36m0:00:00\u001b[0m\n",
            "\u001b[2K   \u001b[90m━━━━━━━━━━━━━━━━━━━━━━━━━━━━━━━━━━━━━━━━\u001b[0m \u001b[32m375.6/375.6 kB\u001b[0m \u001b[31m1.1 MB/s\u001b[0m eta \u001b[36m0:00:00\u001b[0m\n",
            "\u001b[2K   \u001b[90m━━━━━━━━━━━━━━━━━━━━━━━━━━━━━━━━━━━━━━━━\u001b[0m \u001b[32m40.4/40.4 kB\u001b[0m \u001b[31m323.8 kB/s\u001b[0m eta \u001b[36m0:00:00\u001b[0m\n",
            "\u001b[2K   \u001b[90m━━━━━━━━━━━━━━━━━━━━━━━━━━━━━━━━━━━━━━━━\u001b[0m \u001b[32m76.4/76.4 kB\u001b[0m \u001b[31m1.1 MB/s\u001b[0m eta \u001b[36m0:00:00\u001b[0m\n",
            "\u001b[2K   \u001b[90m━━━━━━━━━━━━━━━━━━━━━━━━━━━━━━━━━━━━━━━━\u001b[0m \u001b[32m77.9/77.9 kB\u001b[0m \u001b[31m1.1 MB/s\u001b[0m eta \u001b[36m0:00:00\u001b[0m\n",
            "\u001b[2K   \u001b[90m━━━━━━━━━━━━━━━━━━━━━━━━━━━━━━━━━━━━━━━━\u001b[0m \u001b[32m318.9/318.9 kB\u001b[0m \u001b[31m1.3 MB/s\u001b[0m eta \u001b[36m0:00:00\u001b[0m\n",
            "\u001b[2K   \u001b[90m━━━━━━━━━━━━━━━━━━━━━━━━━━━━━━━━━━━━━━━━\u001b[0m \u001b[32m397.0/397.0 kB\u001b[0m \u001b[31m1.5 MB/s\u001b[0m eta \u001b[36m0:00:00\u001b[0m\n",
            "\u001b[2K   \u001b[90m━━━━━━━━━━━━━━━━━━━━━━━━━━━━━━━━━━━━━━━━\u001b[0m \u001b[32m290.2/290.2 kB\u001b[0m \u001b[31m1.6 MB/s\u001b[0m eta \u001b[36m0:00:00\u001b[0m\n",
            "\u001b[2K   \u001b[90m━━━━━━━━━━━━━━━━━━━━━━━━━━━━━━━━━━━━━━━━\u001b[0m \u001b[32m58.3/58.3 kB\u001b[0m \u001b[31m1.3 MB/s\u001b[0m eta \u001b[36m0:00:00\u001b[0m\n",
            "\u001b[2K   \u001b[90m━━━━━━━━━━━━━━━━━━━━━━━━━━━━━━━━━━━━━━━━\u001b[0m \u001b[32m141.9/141.9 kB\u001b[0m \u001b[31m1.4 MB/s\u001b[0m eta \u001b[36m0:00:00\u001b[0m\n",
            "\u001b[?25h"
          ]
        }
      ],
      "source": [
        "pip install -q python-dotenv openai langchain_nvidia_ai_endpoints"
      ]
    },
    {
      "cell_type": "code",
      "execution_count": null,
      "id": "2e237e25-de00-490d-bad2-fb3a4a352a22",
      "metadata": {
        "tags": [],
        "id": "2e237e25-de00-490d-bad2-fb3a4a352a22"
      },
      "outputs": [],
      "source": [
        "import os\n",
        "from dotenv import load_dotenv\n",
        "\n",
        "# Get NVIDIA's API Key: the API key should start with \"nvapi-\"\n",
        "if not os.getenv(\"NVIDIA_API_KEY\"):\n",
        "    # load_dotenv(find_dotenv()) # read .env file\n",
        "    # apikey = os.getenv('NVIDIA_API_KEY')\n",
        "    from google.colab import userdata\n",
        "    apikey = userdata.get('NVIDIA_API_KEY')"
      ]
    },
    {
      "cell_type": "code",
      "source": [
        "from openai import OpenAI\n",
        "\n",
        "client = OpenAI(\n",
        "    base_url = \"https://integrate.api.nvidia.com/v1\",\n",
        "    api_key = apikey\n",
        ")\n",
        "\n",
        "def get_completion(prompt, model=\"meta/llama-3.1-8b-instruct\"):\n",
        "    messages = [{\"role\": \"user\", \"content\": prompt}]\n",
        "    response = client.chat.completions.create(\n",
        "        model=model,\n",
        "        messages=messages,\n",
        "        temperature=0,\n",
        "        top_p=1,\n",
        "        max_tokens=1024\n",
        "    )\n",
        "    return response.choices[0].message.content"
      ],
      "metadata": {
        "id": "-RFccLv7LwPR"
      },
      "id": "-RFccLv7LwPR",
      "execution_count": null,
      "outputs": []
    },
    {
      "cell_type": "markdown",
      "source": [
        "## Ex#1 การนับจำนวน 'ร'"
      ],
      "metadata": {
        "id": "1rSXm6DlFhyd"
      },
      "id": "1rSXm6DlFhyd"
    },
    {
      "cell_type": "code",
      "source": [
        "prompt = f\"\"\"\n",
        "จงนับจำนวน 'ร' ที่อยู่ใน 'สตรอเบอร์รี'\n",
        "\"\"\"\n",
        "\n",
        "response = get_completion(prompt)\n",
        "print(response)"
      ],
      "metadata": {
        "colab": {
          "base_uri": "https://localhost:8080/"
        },
        "id": "X6jeqpasFX__",
        "outputId": "2066e6f4-ea77-4e37-c907-684f6086f924"
      },
      "id": "X6jeqpasFX__",
      "execution_count": null,
      "outputs": [
        {
          "output_type": "stream",
          "name": "stdout",
          "text": [
            "มี 2 'ร' ใน 'สตรอเบอร์รี'\n"
          ]
        }
      ]
    },
    {
      "cell_type": "code",
      "source": [
        "prompt = f\"\"\"\n",
        "How many occurance of 'ร' in 'สตรอเบอร์รี'\n",
        "\"\"\"\n",
        "\n",
        "response = get_completion(prompt)\n",
        "print(response)"
      ],
      "metadata": {
        "colab": {
          "base_uri": "https://localhost:8080/"
        },
        "id": "yhamZ2dsFYN5",
        "outputId": "919d6d38-1300-4b4d-a420-fbc5037006fb"
      },
      "id": "yhamZ2dsFYN5",
      "execution_count": null,
      "outputs": [
        {
          "output_type": "stream",
          "name": "stdout",
          "text": [
            "There are 3 occurrences of 'ร' in 'สตรอเบอร์รี'.\n"
          ]
        }
      ]
    },
    {
      "cell_type": "markdown",
      "source": [
        "## Ex#2 Generate a marketing product description from a product fact sheet"
      ],
      "metadata": {
        "id": "bbG1pT_4GDvx"
      },
      "id": "bbG1pT_4GDvx"
    },
    {
      "cell_type": "code",
      "source": [
        "fact_sheet_prod = \"\"\"\n",
        "รายละเอียดสินค้า:\n",
        " - Xiamen Buds Wireless Bluetooth Earphone หูฟังบลูทูธไร้สาย การใช้งานได้นาน 28 ชม\n",
        " - โหมดตัดเสียงรบกวน 3 โหมด เสียงระดับ Hi-Fi ขั้นสูงสุด\n",
        " - รับประกันศูนย์ไทย 1 ปี\n",
        "\n",
        "ข้อมูลจำเพาะ\n",
        "=========\n",
        "สี:\n",
        " - Black\n",
        " - White\n",
        " - Sky Blue\n",
        "\n",
        "ขนาดและน้ำหนัก\n",
        " - น้ำหนักของหูฟังหนึ่งข้าง: : 5.3 กรัม\n",
        " - ขนาดของหูฟังหนึ่งข้าง: : 29.5 × 21.4 × 23.5 มม.\n",
        " - น้ำหนักของเคสชาร์จ: : 31.4 กรัม\n",
        " - ขนาดของเคสชาร์จ: : 61 × 50 × 24.6 มม.\n",
        " - น้ำหนักรวม: : 42 กรัม\n",
        "\n",
        "การชาร์จ\n",
        " - ความจุแบตเตอรี่ : หูฟัง: 54mAh\n",
        " - เคสชาร์จ : 480mAh\n",
        " - พอร์ตการชาร์จ : Type-C\n",
        "\n",
        "การเชื่อมต่อ\n",
        " - การเชื่อมต่อไร้สาย : Bluetooth® 5.3\n",
        " - โพรโทคอล Bluetooth : HSP, HFP, A2DP, AVRCP\n",
        " - ระยะสื่อสาร : 10 ม. (พื้นที่โล่งไร้สิ่งกีดขวาง)\n",
        "\n",
        "เงื่อนไขรับประกัน\n",
        " - นโยบายเปลี่ยน/คืนสินค้า\n",
        " - หากกรณีสินค้าเสียหายต้องมีคลิปตั้งแต่แกะกล่องสินค้าโดยถ่ายชัดเจนทุกมุมว่าไม่มีการแกะและเห็นสินค้าชัดเจน หากไม่มีร้านจะไม่รับเคลมทุกกรณี\n",
        " - สามารถเปลี่ยนตัวใหม่ได้ภายใน 7 วัน โดยเป็นไปตามเงื่อนไขเดียวกันกับการรับประกันสินค้า โดยสินค้าต้องเป็นรุ่นและแบรนด์เดิมเท่านั้น และสินค้าต้องยังไม่ถูกแกะ ฉีก และไม่ได้เปิดใช้\n",
        "\n",
        "ร้านไม่รับการคืนในกรณีต่อไปนี้\n",
        " - สินค้าที่ได้ทำการแกะ ฉีก เปิด หรือใช้แล้ว\n",
        " - สินค้าไม่ได้ส่งสินค้ากลับคืนมาให้เราภายใน 7 วัน หลังจากวันที่ได้รับสินค้า\n",
        " - สินค้าที่เป็นของแถมหรือสินค้าร่วมรายการพิเศษแบบมีเงื่อนไข\n",
        " - ในการณีสินค้ามีการชำรุดเรื่องจากจัดส่ง ลูกค้าจะต้องติดต่อทางร้านภายใน 24 ชม. หลังได้รับสินค้า\n",
        "\"\"\""
      ],
      "metadata": {
        "id": "B5L5MOj_FmKP"
      },
      "id": "B5L5MOj_FmKP",
      "execution_count": null,
      "outputs": []
    },
    {
      "cell_type": "code",
      "source": [
        "prompt = f\"\"\"\n",
        "Your task is to help a marketing team create a\n",
        "description for a retail website of a product based\n",
        "on a technical fact sheet.\n",
        "\n",
        "จงเขียนคำอธิบายสินค้าโดยใช้ข้อมูลจาก Technical specification\n",
        "\n",
        "Technical specifications: ```{fact_sheet_prod}```\n",
        "\"\"\"\n",
        "response = get_completion(prompt)\n",
        "print(response)"
      ],
      "metadata": {
        "colab": {
          "base_uri": "https://localhost:8080/"
        },
        "id": "B6jonkFYFmYB",
        "outputId": "33759c6f-6864-481d-afa1-9aeacfa36978"
      },
      "id": "B6jonkFYFmYB",
      "execution_count": null,
      "outputs": [
        {
          "output_type": "stream",
          "name": "stdout",
          "text": [
            "คำอธิบายสินค้า:\n",
            "\n",
            "หูฟังบลูทูธไร้สาย Xiamen Buds Wireless Bluetooth Earphone เป็นหูฟังที่มีความสามารถในการใช้งานได้นานถึง 28 ชม. โดยมีโหมดตัดเสียงรบกวน 3 โหมด และสามารถเล่นเสียงระดับ Hi-Fi ขั้นสูงสุด\n",
            "\n",
            "หูฟังของเรามีขนาดและน้ำหนักเหมาะสม โดยน้ำหนักของหูฟังหนึ่งข้างอยู่ที่ 5.3 กรัม และขนาดของหูฟังหนึ่งข้างอยู่ที่ 29.5 × 21.4 × 23.5 มม. นอกจากนี้ยังมีเคสชาร์จที่มีน้ำหนัก 31.4 กรัม และขนาด 61 × 50 × 24.6 มม.\n",
            "\n",
            "หูฟังของเรามีการชาร์จที่สะดวกสบาย โดยมีพอร์ตการชาร์จ Type-C และความจุแบตเตอรี่ 54mAh สำหรับหูฟัง และ 480mAh สำหรับเคสชาร์จ\n",
            "\n",
            "หูฟังของเรามีการเชื่อมต่อไร้สายที่มีความสามารถในการเชื่อมต่อได้ไกลถึง 10 ม. โดยใช้ Bluetooth 5.3 และโพรโทคอล Bluetooth HSP, HFP, A2DP, AVRCP\n",
            "\n",
            "นอกจากนี้ หูฟังของเรายังมีนโยบายเปลี่ยน/คืนสินค้า และรับประกันสินค้า 1 ปี โดยสามารถเปลี่ยนตัวใหม่ได้ภายใน 7 วัน หากสินค้าเสียหายหรือไม่ตรงตามเงื่อนไข\n",
            "\n",
            "สินค้าของเรามีสี 3 สี ได้แก่ Black, White และ Sky Blue และมีขนาดและน้ำหนักเหมาะสมสำหรับการใช้งานที่สะดวกสบาย.\n"
          ]
        }
      ]
    },
    {
      "cell_type": "markdown",
      "source": [
        "## Ex#3: Limit length of text\n",
        "- ทดลองระบุจำนวนคำ"
      ],
      "metadata": {
        "id": "zlbIz6idFZDH"
      },
      "id": "zlbIz6idFZDH"
    },
    {
      "cell_type": "code",
      "source": [
        "prompt = f\"\"\"\n",
        "Your task is to help a marketing team create a\n",
        "description for a retail website of a product based\n",
        "on a technical fact sheet.\n",
        "\n",
        "ช่วยอธิบายรายละเอียดของสินค้าภายใน 100 คำ\n",
        "\n",
        "Technical specifications: ```{fact_sheet_prod}```\n",
        "\"\"\"\n",
        "response = get_completion(prompt)\n",
        "print(response)"
      ],
      "metadata": {
        "colab": {
          "base_uri": "https://localhost:8080/"
        },
        "id": "4AJYjqSPFD9l",
        "outputId": "01437f06-f5bc-42d2-8b92-0dd66f4137a2"
      },
      "id": "4AJYjqSPFD9l",
      "execution_count": null,
      "outputs": [
        {
          "output_type": "stream",
          "name": "stdout",
          "text": [
            "หูฟังบลูทูธไร้สาย Xiamen Buds Wireless Bluetooth Earphone มีความสามารถในการใช้งานได้นาน 28 ชม. มีโหมดตัดเสียงรบกวน 3 โหมด และมีเสียงระดับ Hi-Fi ขั้นสูงสุด น้ำหนักของหูฟังหนึ่งข้าง 5.3 กรัม และขนาด 29.5 × 21.4 × 23.5 มม. มีการชาร์จแบบ Type-C และสามารถเชื่อมต่อไร้สายได้ระยะ 10 ม. มีนโยบายรับประกัน 1 ปี และสามารถเปลี่ยนตัวใหม่ได้ภายใน 7 วัน หากสินค้าไม่ตรงตามเงื่อนไข\n"
          ]
        }
      ]
    },
    {
      "cell_type": "markdown",
      "source": [
        "## Ex#4 Description needs a table of dimensions\n",
        "- Extract information from context and organize it in a table."
      ],
      "metadata": {
        "id": "WjKXz30nFR_O"
      },
      "id": "WjKXz30nFR_O"
    },
    {
      "cell_type": "code",
      "source": [
        "prompt = f\"\"\"\n",
        "Your task is to help a marketing team create a\n",
        "description for a retail website of a product based\n",
        "on a technical fact sheet.\n",
        "\n",
        "Write a product description based on the information\n",
        "provided in the technical specifications delimited by\n",
        "triple backticks.\n",
        "\n",
        "At the end of the description, include product model in the technical specification.\n",
        "\n",
        "After the description, include a table that gives the\n",
        "product's dimensions. The table should have two columns.\n",
        "In the first column include the description.\n",
        "In the second column include the measurements.\n",
        "\n",
        "Give the table the title 'Product Specification'.\n",
        "\n",
        "Format everything as HTML that can be used in a website.\n",
        "Place the description in a <div> element.\n",
        "\n",
        "Write all descrition in Thai. Do not add extra text.\n",
        "\n",
        "Technical specifications: ```{fact_sheet_prod}```\n",
        "\"\"\"\n",
        "\n",
        "response = get_completion(prompt)\n",
        "print(response)"
      ],
      "metadata": {
        "colab": {
          "base_uri": "https://localhost:8080/"
        },
        "id": "ZI79pF1BFEAl",
        "outputId": "6c917970-bc0d-43c5-8c3a-3563a06478e3"
      },
      "id": "ZI79pF1BFEAl",
      "execution_count": null,
      "outputs": [
        {
          "output_type": "stream",
          "name": "stdout",
          "text": [
            "<div>\n",
            "  หูฟังบลูทูธไร้สาย Xiamen Buds Wireless Bluetooth Earphone มีการใช้งานได้นาน 28 ชม. มีโหมดตัดเสียงรบกวน 3 โหมด และมีเสียงระดับ Hi-Fi ขั้นสูงสุด นอกจากนี้ยังมีการรับประกันศูนย์ไทย 1 ปี\n",
            "</div>\n",
            "\n",
            "<table>\n",
            "  <tr>\n",
            "    <th>Product Specification</th>\n",
            "  </tr>\n",
            "  <tr>\n",
            "    <td>ขนาดและน้ำหนัก</td>\n",
            "    <td>\n",
            "      <ul>\n",
            "        <li>น้ำหนักของหูฟังหนึ่งข้าง: 5.3 กรัม</li>\n",
            "        <li>ขนาดของหูฟังหนึ่งข้าง: 29.5 × 21.4 × 23.5 มม.</li>\n",
            "        <li>น้ำหนักของเคสชาร์จ: 31.4 กรัม</li>\n",
            "        <li>ขนาดของเคสชาร์จ: 61 × 50 × 24.6 มม.</li>\n",
            "        <li>น้ำหนักรวม: 42 กรัม</li>\n",
            "      </ul>\n",
            "    </td>\n",
            "  </tr>\n",
            "  <tr>\n",
            "    <td>การชาร์จ</td>\n",
            "    <td>\n",
            "      <ul>\n",
            "        <li>ความจุแบตเตอรี่: หูฟัง: 54mAh</li>\n",
            "        <li>เคสชาร์จ: 480mAh</li>\n",
            "        <li>พอร์ตการชาร์จ: Type-C</li>\n",
            "      </ul>\n",
            "    </td>\n",
            "  </tr>\n",
            "  <tr>\n",
            "    <td>การเชื่อมต่อ</td>\n",
            "    <td>\n",
            "      <ul>\n",
            "        <li>การเชื่อมต่อไร้สาย: Bluetooth® 5.3</li>\n",
            "        <li>โพรโทคอล Bluetooth: HSP, HFP, A2DP, AVRCP</li>\n",
            "        <li>ระยะสื่อสาร: 10 ม. (พื้นที่โล่งไร้สิ่งกีดขวาง)</li>\n",
            "      </ul>\n",
            "    </td>\n",
            "  </tr>\n",
            "  <tr>\n",
            "    <td>เงื่อนไขรับประกัน</td>\n",
            "    <td>\n",
            "      <ul>\n",
            "        <li>นโยบายเปลี่ยน/คืนสินค้า</li>\n",
            "        <li>หากกรณีสินค้าเสียหายต้องมีคลิปตั้งแต่แกะกล่องสินค้าโดยถ่ายชัดเจนทุกมุมว่าไม่มีการแกะและเห็นสินค้าชัดเจน หากไม่มีร้านจะไม่รับเคลมทุกกรณี</li>\n",
            "        <li>สามารถเปลี่ยนตัวใหม่ได้ภายใน 7 วัน โดยเป็นไปตามเงื่อนไขเดียวกันกับการรับประกันสินค้า โดยสินค้าต้องเป็นรุ่นและแบรนด์เดิมเท่านั้น และสินค้าต้องยังไม่ถูกแกะ ฉีก และไม่ได้เปิดใช้</li>\n",
            "      </ul>\n",
            "    </td>\n",
            "  </tr>\n",
            "</table>\n",
            "\n",
            "**Xiamen Buds Wireless Bluetooth Earphone**\n"
          ]
        }
      ]
    },
    {
      "cell_type": "markdown",
      "source": [
        "### Load Python libraries to view HTML"
      ],
      "metadata": {
        "id": "qGyXDq7OFHlP"
      },
      "id": "qGyXDq7OFHlP"
    },
    {
      "cell_type": "code",
      "source": [
        "from IPython.display import display, HTML"
      ],
      "metadata": {
        "id": "9AEGebPF7Jfq"
      },
      "id": "9AEGebPF7Jfq",
      "execution_count": null,
      "outputs": []
    },
    {
      "cell_type": "code",
      "source": [
        "display(HTML(response))"
      ],
      "metadata": {
        "id": "TLIDDZCw7JiY",
        "colab": {
          "base_uri": "https://localhost:8080/",
          "height": 382
        },
        "outputId": "e416c789-0a6b-40f6-da60-1c26323a607a"
      },
      "id": "TLIDDZCw7JiY",
      "execution_count": null,
      "outputs": [
        {
          "output_type": "display_data",
          "data": {
            "text/plain": [
              "<IPython.core.display.HTML object>"
            ],
            "text/html": [
              "<div>\n",
              "  หูฟังบลูทูธไร้สาย Xiamen Buds Wireless Bluetooth Earphone มีการใช้งานได้นาน 28 ชม. มีโหมดตัดเสียงรบกวน 3 โหมด และมีเสียงระดับ Hi-Fi ขั้นสูงสุด นอกจากนี้ยังมีการรับประกันศูนย์ไทย 1 ปี\n",
              "</div>\n",
              "\n",
              "<table>\n",
              "  <tr>\n",
              "    <th>Product Specification</th>\n",
              "  </tr>\n",
              "  <tr>\n",
              "    <td>ขนาดและน้ำหนัก</td>\n",
              "    <td>\n",
              "      <ul>\n",
              "        <li>น้ำหนักของหูฟังหนึ่งข้าง: 5.3 กรัม</li>\n",
              "        <li>ขนาดของหูฟังหนึ่งข้าง: 29.5 × 21.4 × 23.5 มม.</li>\n",
              "        <li>น้ำหนักของเคสชาร์จ: 31.4 กรัม</li>\n",
              "        <li>ขนาดของเคสชาร์จ: 61 × 50 × 24.6 มม.</li>\n",
              "        <li>น้ำหนักรวม: 42 กรัม</li>\n",
              "      </ul>\n",
              "    </td>\n",
              "  </tr>\n",
              "  <tr>\n",
              "    <td>การชาร์จ</td>\n",
              "    <td>\n",
              "      <ul>\n",
              "        <li>ความจุแบตเตอรี่: หูฟัง: 54mAh</li>\n",
              "        <li>เคสชาร์จ: 480mAh</li>\n",
              "        <li>พอร์ตการชาร์จ: Type-C</li>\n",
              "      </ul>\n",
              "    </td>\n",
              "  </tr>\n",
              "  <tr>\n",
              "    <td>การเชื่อมต่อ</td>\n",
              "    <td>\n",
              "      <ul>\n",
              "        <li>การเชื่อมต่อไร้สาย: Bluetooth® 5.3</li>\n",
              "        <li>โพรโทคอล Bluetooth: HSP, HFP, A2DP, AVRCP</li>\n",
              "        <li>ระยะสื่อสาร: 10 ม. (พื้นที่โล่งไร้สิ่งกีดขวาง)</li>\n",
              "      </ul>\n",
              "    </td>\n",
              "  </tr>\n",
              "  <tr>\n",
              "    <td>เงื่อนไขรับประกัน</td>\n",
              "    <td>\n",
              "      <ul>\n",
              "        <li>นโยบายเปลี่ยน/คืนสินค้า</li>\n",
              "        <li>หากกรณีสินค้าเสียหายต้องมีคลิปตั้งแต่แกะกล่องสินค้าโดยถ่ายชัดเจนทุกมุมว่าไม่มีการแกะและเห็นสินค้าชัดเจน หากไม่มีร้านจะไม่รับเคลมทุกกรณี</li>\n",
              "        <li>สามารถเปลี่ยนตัวใหม่ได้ภายใน 7 วัน โดยเป็นไปตามเงื่อนไขเดียวกันกับการรับประกันสินค้า โดยสินค้าต้องเป็นรุ่นและแบรนด์เดิมเท่านั้น และสินค้าต้องยังไม่ถูกแกะ ฉีก และไม่ได้เปิดใช้</li>\n",
              "      </ul>\n",
              "    </td>\n",
              "  </tr>\n",
              "</table>\n",
              "\n",
              "**Xiamen Buds Wireless Bluetooth Earphone**"
            ]
          },
          "metadata": {}
        }
      ]
    },
    {
      "cell_type": "markdown",
      "source": [
        "## Ex#5 ใช้ AI ช่วยสรุปความ"
      ],
      "metadata": {
        "id": "oUwyhjtNExLm"
      },
      "id": "oUwyhjtNExLm"
    },
    {
      "cell_type": "code",
      "source": [
        "prompt = \"\"\"\n",
        "จงสรุปภาพรวมเศรษฐกิจในปี 2566 จาก Context\n",
        "\n",
        "Context:\n",
        "เศรษฐกิจโลกปี 2566 ขยายตัวในอัตราที่ชะลอลงจากปีก่อน โดยการบริโภคภาคเอกชน\n",
        "โดยเฉพาะภาคบริการยังเป็นแรงขับเคลื่อนเศรษฐกิจที่สำคัญในหลายประเทศ จากการผ่อนคลายมาตรการ\n",
        "ควบคุมการเดินทางระหว่างประเทศ และนโยบายการเปิดประเทศของจีนในช่วงต้นปีขณะที่ปริมาณการค้า\n",
        "โลกที่ชะลอตัว ส่งผลให้การผลิตภาคอุตสาหกรรมและการส่งออกสินค้าในหลายประเทศ โดยเฉพาะกลุ่ม\n",
        "ประเทศเอเชียชะลอลง ซึ่งเป็นผลจาก (1) การดำเนินนโยบายการเงินที่เข้มงวดของธนาคารกลางหลาย\n",
        "ประเทศเพื่อดูแลเงินเฟ้อที่มีแนวโน้มทรงตัวในระดับสูงนานกว่าคาด ซึ่งส่งผลให้สถาบันการเงินบางแห่งใน\n",
        "สหรัฐฯ และยุโรปประสบปัญหาด้านสภาพคล่องในไตรมาส 1 อย่างไรก็ดี ผลต่อเศรษฐกิจและการเงินโลก\n",
        "ค่อนข้างจำกัด เนื่องจากทางการได้ดำเนินมาตรการสกัดผลกระทบที่จะลุกลามเป็นวงกว้างได้อย่างรวดเร็ว\n",
        "อาทิ การค้ำประกันเงินฝาก และการตั้งกองทุนเพื่อเสริมสภาพคล่องแก่สถาบันการเงิน เป็นต้น (2) การฟื้นตัว\n",
        "ของเศรษฐกิจจีนที่เป็นไปอย่างล่าช้าเนื่องจากภาคอสังหาริมทรัพย์อยู่ในภาวะชะลอตัว (3) สินค้าคงคลังยังอยู่\n",
        "ในระดับสูง เนื่องจากธุรกิจเร่งสะสมสินค้าคงคลังในช่วงการระบาดของ COVID-19 ที่มีปัญหาขาดแคลน\n",
        "วัตถุดิบและปัญหาการขนส่งสินค้าที่ใช้ระยะเวลานาน และ (4) ปัญหาความขัดแย้งทางภูมิรัฐศาสตร์\n",
        "โดยเฉพาะการกีดกันทางการค้าและการพัฒนาอุตสาหกรรมด้านเทคโนโลยีระหว่างจีนกับสหรัฐฯ ที่มีต่อเนื่อง\n",
        "รวมทั้งความขัดแย้งระหว่างรัสเซียและยูเครนที่ยังคงยืดเยื้อ อย่างไรก็ดี ปริมาณการค้าโลกมีทิศทางปรับดีขึ้น\n",
        "ในช่วงไตรมาสสุดท้ายของปี 2566 ตามการส่งออกสินค้าอิเล็กทรอนิกส์ของเอเชีย อาทิ เกาหลีใต้ และไต้หวัน\n",
        "ที่ทยอยฟื้นตัว แม้เศรษฐกิจโลกจะเผชิญกับความไม่แน่นอนที่สูงขึ้นจากสงครามระหว่างอิสราเอลและกลุ่ม\n",
        "ฮามาสในช่วงท้ายของปี\n",
        "\"\"\"\n",
        "\n",
        "response = get_completion(prompt)\n",
        "print(response)"
      ],
      "metadata": {
        "id": "f769NSjA7JzD",
        "colab": {
          "base_uri": "https://localhost:8080/"
        },
        "outputId": "9468303b-f388-463d-bef7-10eff6a0d854"
      },
      "id": "f769NSjA7JzD",
      "execution_count": null,
      "outputs": [
        {
          "output_type": "stream",
          "name": "stdout",
          "text": [
            "ภาพรวมเศรษฐกิจโลกในปี 2566 มีลักษณะดังนี้\n",
            "\n",
            "1.  เศรษฐกิจโลกขยายตัวในอัตราที่ชะลอลงจากปีก่อน\n",
            "2.  การบริโภคภาคเอกชน โดยเฉพาะภาคบริการยังเป็นแรงขับเคลื่อนเศรษฐกิจที่สำคัญในหลายประเทศ\n",
            "3.  ปริมาณการค้าโลกที่ชะลอตัว ส่งผลให้การผลิตภาคอุตสาหกรรมและการส่งออกสินค้าในหลายประเทศชะลอลง\n",
            "4.  การดำเนินนโยบายการเงินที่เข้มงวดของธนาคารกลางหลายประเทศเพื่อดูแลเงินเฟ้อที่มีแนวโน้มทรงตัวในระดับสูงนานกว่าคาด\n",
            "5.  ผลต่อเศรษฐกิจและการเงินโลกค่อนข้างจำกัด เนื่องจากทางการได้ดำเนินมาตรการสกัดผลกระทบที่จะลุกลามเป็นวงกว้างได้อย่างรวดเร็ว\n",
            "6.  เศรษฐกิจจีนที่เป็นไปอย่างล่าช้าเนื่องจากภาคอสังหาริมทรัพย์อยู่ในภาวะชะลอตัว\n",
            "7.  สินค้าคงคลังยังอยู่ในระดับสูง เนื่องจากธุรกิจเร่งสะสมสินค้าคงคลังในช่วงการระบาดของ COVID-19 ที่มีปัญหาขาดแคลน\n",
            "8.  วัตถุดิบและปัญหาการขนส่งสินค้าที่ใช้ระยะเวลานาน\n",
            "9.  ปัญหาความขัดแย้งทางภูมิรัฐศาสตร์ โดยเฉพาะการกีดกันทางการค้าและการพัฒนาอุตสาหกรรมด้านเทคโนโลยีระหว่างจีนกับสหรัฐฯ ที่มีต่อเนื่อง\n",
            "10. ปริมาณการค้าโลกมีทิศทางปรับดีขึ้นในช่วงไตรมาสสุดท้ายของปี 2566 ตามการส่งออกสินค้าอิเล็กทรอนิกส์ของเอเชีย\n"
          ]
        }
      ]
    },
    {
      "cell_type": "markdown",
      "source": [
        "## Ex#6 AI ช่วยในการแปลภาษา"
      ],
      "metadata": {
        "id": "X7Oisp3zEXh1"
      },
      "id": "X7Oisp3zEXh1"
    },
    {
      "cell_type": "code",
      "execution_count": null,
      "id": "8a884b7e-97b9-4ed5-a938-7e1edd54832e",
      "metadata": {
        "id": "8a884b7e-97b9-4ed5-a938-7e1edd54832e",
        "colab": {
          "base_uri": "https://localhost:8080/"
        },
        "outputId": "13667049-0295-49bc-fdc9-2d58c965d355"
      },
      "outputs": [
        {
          "output_type": "stream",
          "name": "stdout",
          "text": [
            "ข้อความดั้งเดิมคือเพลง \"Imagine\" ของจอห์น เลนนอน\n",
            "\n",
            "แปลเป็นภาษาไทย\n",
            "\n",
            "มีโลกที่ไม่มีสวรรค์\n",
            "ง่ายๆ ถ้าคุณลอง\n",
            "ไม่มีโลกที่น่ากลัว\n",
            "เหนือเรา มีเพียง bầu trời\n",
            "มีคนมากมาย\n",
            "อยู่ในโลกปัจจุบัน\n",
            "\n",
            "มีโลกที่ไม่มีประเทศ\n",
            "ไม่ใช่เรื่องยาก\n",
            "ไม่มีอะไรที่ต้องฆ่าหรือตาย\n",
            "และไม่มีศาสนา\n",
            "มีคนมากมาย\n",
            "อยู่ในโลกแห่งสันติภาพ\n",
            "\n",
            "คุณอาจจะบอกว่าฉันเป็นคนฝัน\n",
            "แต่ฉันไม่ใช่คนเดียว\n",
            "ฉันหวังวันหนึ่ง คุณจะเข้าร่วมเรา\n",
            "และโลกจะกลายเป็นหนึ่งเดียว\n",
            "\n",
            "มีโลกที่ไม่มีสิ่งใด\n",
            "ฉันสงสัยว่าคุณจะทำได้\n",
            "ไม่มีความจำเป็นสำหรับความโลภหรือความหิว\n",
            "มีเพียงพี่น้องของมนุษย์\n"
          ]
        }
      ],
      "source": [
        "prompt = \"\"\"\n",
        "จงแต่งเพลงภาษาไทย โดยการแปลจากข้อความด้านล่าง\n",
        "\n",
        "Imagine there's no heaven\n",
        "It's easy if you try\n",
        "No hell below us\n",
        "Above us, only sky\n",
        "Imagine all the people\n",
        "Livin' for today\n",
        "\n",
        "Imagine there's no countries\n",
        "It isn't hard to do\n",
        "Nothing to kill or die for\n",
        "And no religion, too\n",
        "Imagine all the people\n",
        "Livin' life in peace\n",
        "\n",
        "You may say I'm a dreamer\n",
        "But I'm not the only one\n",
        "I hope someday you'll join us\n",
        "And the world will be as one\n",
        "\n",
        "Imagine no possessions\n",
        "I wonder if you can\n",
        "No need for greed or hunger\n",
        "A brotherhood of man\n",
        "\"\"\"\n",
        "\n",
        "response = get_completion(prompt)\n",
        "print(response)"
      ]
    }
  ],
  "metadata": {
    "kernelspec": {
      "display_name": "Pytorch+NGC on Kubernetes Operator 240702161026",
      "language": "python",
      "name": "jupyter-eg-kernel-k8s-cmjkop-ngc-py-1i26n1a82"
    },
    "language_info": {
      "codemirror_mode": {
        "name": "ipython",
        "version": 3
      },
      "file_extension": ".py",
      "mimetype": "text/x-python",
      "name": "python",
      "nbconvert_exporter": "python",
      "pygments_lexer": "ipython3",
      "version": "3.10.12"
    },
    "colab": {
      "provenance": []
    }
  },
  "nbformat": 4,
  "nbformat_minor": 5
}