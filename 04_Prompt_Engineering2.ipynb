{
  "cells": [
    {
      "cell_type": "code",
      "execution_count": null,
      "id": "28f4773c-7113-43ee-b85e-2b331d5ca475",
      "metadata": {
        "id": "28f4773c-7113-43ee-b85e-2b331d5ca475"
      },
      "outputs": [],
      "source": [
        "# %env NVIDIA_API_KEY=nvapi-1234567890abcdef   # replace with your API key"
      ]
    },
    {
      "cell_type": "code",
      "execution_count": 1,
      "id": "bca158aa-1ac5-4278-9ef4-fe611f25aaaf",
      "metadata": {
        "tags": [],
        "id": "bca158aa-1ac5-4278-9ef4-fe611f25aaaf",
        "colab": {
          "base_uri": "https://localhost:8080/"
        },
        "outputId": "81034f06-bd65-48e1-8e64-a959f08976db"
      },
      "outputs": [
        {
          "output_type": "stream",
          "name": "stdout",
          "text": [
            "\u001b[2K     \u001b[90m━━━━━━━━━━━━━━━━━━━━━━━━━━━━━━━━━━━━━━━━\u001b[0m \u001b[32m50.4/50.4 kB\u001b[0m \u001b[31m366.6 kB/s\u001b[0m eta \u001b[36m0:00:00\u001b[0m\n",
            "\u001b[2K   \u001b[90m━━━━━━━━━━━━━━━━━━━━━━━━━━━━━━━━━━━━━━━━\u001b[0m \u001b[32m383.7/383.7 kB\u001b[0m \u001b[31m9.3 MB/s\u001b[0m eta \u001b[36m0:00:00\u001b[0m\n",
            "\u001b[2K   \u001b[90m━━━━━━━━━━━━━━━━━━━━━━━━━━━━━━━━━━━━━━━━\u001b[0m \u001b[32m40.2/40.2 kB\u001b[0m \u001b[31m2.4 MB/s\u001b[0m eta \u001b[36m0:00:00\u001b[0m\n",
            "\u001b[2K   \u001b[90m━━━━━━━━━━━━━━━━━━━━━━━━━━━━━━━━━━━━━━━━\u001b[0m \u001b[32m76.4/76.4 kB\u001b[0m \u001b[31m4.5 MB/s\u001b[0m eta \u001b[36m0:00:00\u001b[0m\n",
            "\u001b[2K   \u001b[90m━━━━━━━━━━━━━━━━━━━━━━━━━━━━━━━━━━━━━━━━\u001b[0m \u001b[32m78.0/78.0 kB\u001b[0m \u001b[31m4.3 MB/s\u001b[0m eta \u001b[36m0:00:00\u001b[0m\n",
            "\u001b[2K   \u001b[90m━━━━━━━━━━━━━━━━━━━━━━━━━━━━━━━━━━━━━━━━\u001b[0m \u001b[32m325.2/325.2 kB\u001b[0m \u001b[31m16.0 MB/s\u001b[0m eta \u001b[36m0:00:00\u001b[0m\n",
            "\u001b[2K   \u001b[90m━━━━━━━━━━━━━━━━━━━━━━━━━━━━━━━━━━━━━━━━\u001b[0m \u001b[32m404.4/404.4 kB\u001b[0m \u001b[31m17.0 MB/s\u001b[0m eta \u001b[36m0:00:00\u001b[0m\n",
            "\u001b[2K   \u001b[90m━━━━━━━━━━━━━━━━━━━━━━━━━━━━━━━━━━━━━━━━\u001b[0m \u001b[32m295.8/295.8 kB\u001b[0m \u001b[31m6.9 MB/s\u001b[0m eta \u001b[36m0:00:00\u001b[0m\n",
            "\u001b[2K   \u001b[90m━━━━━━━━━━━━━━━━━━━━━━━━━━━━━━━━━━━━━━━━\u001b[0m \u001b[32m58.3/58.3 kB\u001b[0m \u001b[31m3.2 MB/s\u001b[0m eta \u001b[36m0:00:00\u001b[0m\n",
            "\u001b[2K   \u001b[90m━━━━━━━━━━━━━━━━━━━━━━━━━━━━━━━━━━━━━━━━\u001b[0m \u001b[32m141.9/141.9 kB\u001b[0m \u001b[31m7.6 MB/s\u001b[0m eta \u001b[36m0:00:00\u001b[0m\n",
            "\u001b[2K   \u001b[90m━━━━━━━━━━━━━━━━━━━━━━━━━━━━━━━━━━━━━━━━\u001b[0m \u001b[32m54.5/54.5 kB\u001b[0m \u001b[31m3.0 MB/s\u001b[0m eta \u001b[36m0:00:00\u001b[0m\n",
            "\u001b[?25h"
          ]
        }
      ],
      "source": [
        "pip install -q python-dotenv openai langchain_nvidia_ai_endpoints"
      ]
    },
    {
      "cell_type": "code",
      "execution_count": 2,
      "id": "2e237e25-de00-490d-bad2-fb3a4a352a22",
      "metadata": {
        "tags": [],
        "id": "2e237e25-de00-490d-bad2-fb3a4a352a22"
      },
      "outputs": [],
      "source": [
        "import os\n",
        "from dotenv import load_dotenv\n",
        "\n",
        "# Get NVIDIA's API Key: the API key should start with \"nvapi-\"\n",
        "if not os.getenv(\"NVIDIA_API_KEY\"):\n",
        "    # load_dotenv(find_dotenv()) # read .env file\n",
        "    # apikey = os.getenv('NVIDIA_API_KEY')\n",
        "    from google.colab import userdata\n",
        "    apikey = userdata.get('NVIDIA_API_KEY')"
      ]
    },
    {
      "cell_type": "code",
      "source": [
        "from openai import OpenAI\n",
        "\n",
        "client = OpenAI(\n",
        "    base_url = \"https://integrate.api.nvidia.com/v1\",\n",
        "    api_key = apikey\n",
        ")\n",
        "\n",
        "def get_completion(prompt, model=\"meta/llama-3.2-3b-instruct\"):\n",
        "    messages = [{\"role\": \"user\", \"content\": prompt}]\n",
        "    response = client.chat.completions.create(\n",
        "        model=model,\n",
        "        messages=messages,\n",
        "        temperature=0,\n",
        "        top_p=1,\n",
        "        max_tokens=512\n",
        "    )\n",
        "    return response.choices[0].message.content"
      ],
      "metadata": {
        "id": "-RFccLv7LwPR"
      },
      "id": "-RFccLv7LwPR",
      "execution_count": 3,
      "outputs": []
    },
    {
      "cell_type": "markdown",
      "source": [
        "### Zero shot prompting"
      ],
      "metadata": {
        "id": "ZPjnZvDGbfRr"
      },
      "id": "ZPjnZvDGbfRr"
    },
    {
      "cell_type": "code",
      "source": [
        "prompt = \"Calulate 3 * 7 = ?\"\n",
        "\n",
        "response = get_completion(prompt)\n",
        "print(response)"
      ],
      "metadata": {
        "colab": {
          "base_uri": "https://localhost:8080/"
        },
        "id": "Lj2_t90AbNQa",
        "outputId": "1859e428-9b25-4da1-ae71-9a58bcbc04d2"
      },
      "id": "Lj2_t90AbNQa",
      "execution_count": null,
      "outputs": [
        {
          "output_type": "stream",
          "name": "stdout",
          "text": [
            "3 * 7 = 21\n"
          ]
        }
      ]
    },
    {
      "cell_type": "code",
      "source": [
        "prompt = \"Country road take me home, to\"\n",
        "\n",
        "response = get_completion(prompt)\n",
        "print(response)\n",
        "\n",
        "# เนื้อเพลง Take Me Home, Country Roads ของ John Denver ที่โด่งดังมาตั้งแต่ยุค 1970 (https://www.youtube.com/watch?v=1vrEljMfXYo)"
      ],
      "metadata": {
        "colab": {
          "base_uri": "https://localhost:8080/"
        },
        "id": "5mtMXL2NbNco",
        "outputId": "648293e1-81d6-4d1c-8d99-a4f73df5249d"
      },
      "id": "5mtMXL2NbNco",
      "execution_count": null,
      "outputs": [
        {
          "output_type": "stream",
          "name": "stdout",
          "text": [
            "...the place I belong!\n"
          ]
        }
      ]
    },
    {
      "cell_type": "markdown",
      "source": [
        "### Few shot prompting"
      ],
      "metadata": {
        "id": "Mtb5CRT9eCYR"
      },
      "id": "Mtb5CRT9eCYR"
    },
    {
      "cell_type": "code",
      "source": [
        "prompt = \"\"\"You are native English speaker. Help me to complete the following phasal words.\n",
        "```\n",
        "To kill two birds with one stone - accomplishing two goals simultaneously with a single effort.\n",
        "Make a long story short - summarize a lengthy explanation\n",
        "Break the ice - making people feel more comfortable\n",
        "raining cat and dog -\n",
        "```\n",
        "\"\"\"\n",
        "\n",
        "response = get_completion(prompt)\n",
        "print(response)"
      ],
      "metadata": {
        "colab": {
          "base_uri": "https://localhost:8080/"
        },
        "id": "nm0CGuwbbNdh",
        "outputId": "1e00bfbb-e80a-4c86-b616-2a82e5036571"
      },
      "id": "nm0CGuwbbNdh",
      "execution_count": 7,
      "outputs": [
        {
          "output_type": "stream",
          "name": "stdout",
          "text": [
            "Here are the completed phrases:\n",
            "\n",
            "1. **To kill two birds with one stone**: accomplishing two goals simultaneously with a single effort.\n",
            "2. **Make a long story short**: summarize a lengthy explanation.\n",
            "3. **Break the ice**: making people feel more comfortable.\n",
            "4. **Raining cats and dogs**: raining very heavily (this is a common idiomatic expression, but it's worth noting that it's not literally raining cats and dogs!)\n",
            "\n",
            "Let me know if you'd like me to help with anything else!\n"
          ]
        }
      ]
    },
    {
      "cell_type": "code",
      "source": [
        "prompt = \"\"\"You are helpful assistant who speak Thai. I need you to complete the following phasal words.\n",
        "```\n",
        "ดุเหมือน - เสือ\n",
        "ฉลาดเหมือน - ลิง\n",
        "กินเก่งเหมือน -\n",
        "```\n",
        "\"\"\"\n",
        "\n",
        "response = get_completion(prompt)\n",
        "print(response)"
      ],
      "metadata": {
        "colab": {
          "base_uri": "https://localhost:8080/"
        },
        "id": "KL5hrUWF3Kll",
        "outputId": "67d34f84-a9d5-4bb5-c033-d31087c9dd72"
      },
      "id": "KL5hrUWF3Kll",
      "execution_count": 10,
      "outputs": [
        {
          "output_type": "stream",
          "name": "stdout",
          "text": [
            "ขอโทษครับ/ค่ะ ผม/ดิฉันจะช่วยคุณเติมคำตอบที่ถูกต้อง\n",
            "\n",
            "ดุเหมือน - เสือ\n",
            "ฉลาดเหมือน - ลิง\n",
            "กินเก่งเหมือน - หมู\n"
          ]
        }
      ]
    },
    {
      "cell_type": "code",
      "source": [
        "prompt = \"\"\"You are native English speaker. Help me to complete the following phasal words.\n",
        "```\n",
        "1. To kill two birds with one stone – accomplish two tasks with one action.\n",
        "   - By driving to the store, I killed two birds with one stone: I picked up groceries and dropped off the package at the post office.\n",
        "   - We can kill two birds with one stone by having the meeting during lunch, so we discuss the project and eat at the same time.\n",
        "\n",
        "2. Make a long story short – summarize the main point without extra details.\n",
        "   - To make a long story short, we missed the flight because the taxi was late.\n",
        "   - I won't go into all the details. To make a long story short, the deal went through, and we got the contract.\n",
        "\n",
        "3. Break the ice – initiate conversation or create a relaxed atmosphere.\n",
        "   - He told a joke at the start of the meeting to break the ice.\n",
        "   - At parties, it’s always good to have some fun activities planned to break the ice.\n",
        "\n",
        "4. Piece of cake -\n",
        "```\n",
        "\"\"\"\n",
        "\n",
        "response = get_completion(prompt)\n",
        "print(response)"
      ],
      "metadata": {
        "colab": {
          "base_uri": "https://localhost:8080/"
        },
        "id": "2teslC8TeGZR",
        "outputId": "39d92602-034f-4881-f559-aca3063624ec"
      },
      "id": "2teslC8TeGZR",
      "execution_count": null,
      "outputs": [
        {
          "output_type": "stream",
          "name": "stdout",
          "text": [
            "Here are the completed phrases:\n",
            "\n",
            "1. To kill two birds with one stone – accomplish two tasks with one action.\n",
            "   - By driving to the store, I killed two birds with one stone: I picked up groceries and dropped off the package at the post office.\n",
            "   - We can kill two birds with one stone by having the meeting during lunch, so we discuss the project and eat at the same time.\n",
            "\n",
            "2. Make a long story short – summarize the main point without extra details.\n",
            "   - To make a long story short, we missed the flight because the taxi was late.\n",
            "   - I won't go into all the details. To make a long story short, the deal went through, and we got the contract.\n",
            "\n",
            "3. Break the ice – initiate conversation or create a relaxed atmosphere.\n",
            "   - He told a joke at the start of the meeting to break the ice.\n",
            "   - At parties, it’s always good to have some fun activities planned to break the ice.\n",
            "\n",
            "4. Piece of cake – something that is very easy to do.\n",
            "   - I thought the test would be difficult, but it was a piece of cake – I finished it in no time.\n",
            "   - The new employee was nervous, but the training was a piece of cake – she picked it up quickly.\n"
          ]
        }
      ]
    },
    {
      "cell_type": "markdown",
      "source": [
        "### Chain of Thought (CoT) prompting"
      ],
      "metadata": {
        "id": "wU5stOQ_eGvP"
      },
      "id": "wU5stOQ_eGvP"
    },
    {
      "cell_type": "code",
      "source": [
        "prompt = \"\"\"\n",
        "I went to the market and bought 10 apples.\n",
        "I gave 2 apples to the neighbor an 2 to the repairman.\n",
        "I then went and bought 5 more apples and ate 1.\n",
        "How manyapples did I remain with?\n",
        "\n",
        "Let think step by step.\n",
        "\"\"\"\n",
        "\n",
        "response = get_completion(prompt)\n",
        "print(response)"
      ],
      "metadata": {
        "colab": {
          "base_uri": "https://localhost:8080/"
        },
        "id": "cGr8YXKgeGkZ",
        "outputId": "e7577cd0-867f-4c73-8e06-369b3e0618bd"
      },
      "id": "cGr8YXKgeGkZ",
      "execution_count": null,
      "outputs": [
        {
          "output_type": "stream",
          "name": "stdout",
          "text": [
            "Let's break it down step by step:\n",
            "\n",
            "1. You started with 10 apples.\n",
            "2. You gave 2 apples to the neighbor, so you now have:\n",
            "10 - 2 = 8 apples\n",
            "3. You gave 2 apples to the repairman, so you now have:\n",
            "8 - 2 = 6 apples\n",
            "4. You bought 5 more apples, so you now have:\n",
            "6 + 5 = 11 apples\n",
            "5. You ate 1 apple, so you now have:\n",
            "11 - 1 = 10 apples\n",
            "\n",
            "You still have 10 apples!\n"
          ]
        }
      ]
    },
    {
      "cell_type": "code",
      "source": [
        "prompt = \"\"\"\n",
        "Q: Your warehouse has 5 pallets of goods. You purchase 2 more shipments of goods. Each shipment contains 3 pallets. How many pallets of goods do you have now? Let think step by step.\n",
        "\"\"\"\n",
        "\n",
        "response = get_completion(prompt)\n",
        "print(response)"
      ],
      "metadata": {
        "colab": {
          "base_uri": "https://localhost:8080/"
        },
        "id": "iu5RhwUJ7mZE",
        "outputId": "095677ee-7965-46ad-a66b-f78bc3b0f771"
      },
      "id": "iu5RhwUJ7mZE",
      "execution_count": null,
      "outputs": [
        {
          "output_type": "stream",
          "name": "stdout",
          "text": [
            "Let's break it down step by step:\n",
            "\n",
            "1. You start with 5 pallets of goods in your warehouse.\n",
            "2. You purchase 2 more shipments of goods, and each shipment contains 3 pallets.\n",
            "3. To find out how many pallets you have now, you need to add the number of pallets in the 2 shipments to the number of pallets you already had.\n",
            "4. Since each shipment has 3 pallets, you multiply the number of shipments (2) by the number of pallets per shipment (3): 2 x 3 = 6\n",
            "5. Now, you add the 6 pallets from the 2 shipments to the 5 pallets you already had: 5 + 6 = 11\n",
            "\n",
            "Therefore, you now have 11 pallets of goods in your warehouse.\n"
          ]
        }
      ]
    },
    {
      "cell_type": "markdown",
      "source": [
        "### ReAct prompting"
      ],
      "metadata": {
        "id": "AQIznjY7jXd1"
      },
      "id": "AQIznjY7jXd1"
    },
    {
      "cell_type": "code",
      "source": [
        "# ReAct example#1\n",
        "prompt = \"If a train travels 60 miles in 1 hour, how far will it travel in 3 hours? Explain your reasoning.\"\n",
        "\n",
        "response = get_completion(prompt)\n",
        "print(response)"
      ],
      "metadata": {
        "colab": {
          "base_uri": "https://localhost:8080/"
        },
        "id": "Uo0Fg5eCjW3I",
        "outputId": "51db4e5e-b164-48c6-8aef-fdd1d8ac8372"
      },
      "id": "Uo0Fg5eCjW3I",
      "execution_count": null,
      "outputs": [
        {
          "output_type": "stream",
          "name": "stdout",
          "text": [
            "To find the distance the train will travel in 3 hours, we need to multiply the distance it travels in 1 hour by 3.\n",
            "\n",
            "Distance = Speed x Time\n",
            "\n",
            "In this case, the speed is 60 miles per hour, and the time is 3 hours.\n",
            "\n",
            "Distance = 60 miles/hour x 3 hours\n",
            "= 180 miles\n",
            "\n",
            "Therefore, the train will travel 180 miles in 3 hours.\n"
          ]
        }
      ]
    },
    {
      "cell_type": "code",
      "source": [
        "# ReAct example#2\n",
        "prompt = \"You have $100 to spend on groceries for a week. What items would you buy and why?\"\n",
        "\n",
        "response = get_completion(prompt)\n",
        "print(response)"
      ],
      "metadata": {
        "colab": {
          "base_uri": "https://localhost:8080/"
        },
        "id": "GpU6b96ckd__",
        "outputId": "1bb3a391-4cdc-4de1-b298-07f7d056981a"
      },
      "id": "GpU6b96ckd__",
      "execution_count": null,
      "outputs": [
        {
          "output_type": "stream",
          "name": "stdout",
          "text": [
            "With $100 to spend on groceries for a week, I'd focus on buying staples, essentials, and some convenience items to make meal planning and cooking easier. Here's my shopping list:\n",
            "\n",
            "**Pantry Staples (approx. $30)**\n",
            "\n",
            "1. Rice (2 lbs) - $2\n",
            "2. Pasta (1 lb) - $1.50\n",
            "3. Canned beans (black, kidney, and chickpeas) - $5\n",
            "4. Canned tomatoes (2 cans) - $2\n",
            "5. Oats (1 lb) - $3\n",
            "6. Granola (1 bag) - $3\n",
            "7. Spices (salt, pepper, cumin, and paprika) - $2\n",
            "\n",
            "**Fresh Produce (approx. $25)**\n",
            "\n",
            "1. Carrots (1 bunch) - $1\n",
            "2. Onions (2) - $1.50\n",
            "3. Potatoes (3-4) - $2\n",
            "4. Apples (3-4) - $3\n",
            "5. Bananas (4-5) - $1\n",
            "6. Mixed greens (1 bag) - $2\n",
            "\n",
            "**Dairy and Eggs (approx. $20)**\n",
            "\n",
            "1. Eggs (1 dozen) - $2\n",
            "2. Milk (gallon) - $3\n",
            "3. Yogurt (2 cups) - $4\n",
            "4. Cheese (shredded, block, or string) - $5\n",
            "\n",
            "**Meat and Protein (approx. $15)**\n",
            "\n",
            "1. Chicken breast (1 lb) - $5\n",
            "2. Ground beef or turkey (1 lb) - $5\n",
            "3. Tuna canned in water (2 cans) - $4\n",
            "\n",
            "**Bread and Snacks (approx. $10)**\n",
            "\n",
            "1. Whole wheat bread (loaf) - $2\n",
            "2. Tortillas (6-8) - $2\n",
            "3. Nuts (1 bag) - $3\n",
            "4. Dried fruit (1 bag) - $3\n",
            "\n",
            "**Totals**\n",
            "\n",
            "Pantry Staples: $30\n",
            "Fresh Produce: $25\n",
            "Dairy and Eggs: $20\n",
            "Meat and Protein: $15\n",
            "Bread and Snacks: $10\n",
            "**Total:** $100\n",
            "\n",
            "**Meal Ideas**\n",
            "\n",
            "With these ingredients, here are some meal ideas:\n",
            "\n",
            "* Pasta with marinara sauce and veggies\n",
            "* Grilled chicken or beef with roasted potatoes and carrots\n",
            "* Omelets with veggies and cheese\n",
            "* Salads with mixed\n"
          ]
        }
      ]
    },
    {
      "cell_type": "code",
      "source": [
        "# ReAct example#3\n",
        "prompt = \"Write a short story about a lost puppy. Describe its journey and how it finds its way home.\"\n",
        "\n",
        "response = get_completion(prompt)\n",
        "print(response)"
      ],
      "metadata": {
        "colab": {
          "base_uri": "https://localhost:8080/"
        },
        "id": "SDFpO3qzjeeE",
        "outputId": "0f290c5f-bd80-4d6e-92f8-d4bc26fe5ec4"
      },
      "id": "SDFpO3qzjeeE",
      "execution_count": null,
      "outputs": [
        {
          "output_type": "stream",
          "name": "stdout",
          "text": [
            "**The Little Lost Puppy**\n",
            "\n",
            "In a cozy little house on a quiet street, a playful puppy named Max lived with his loving family. One sunny afternoon, while exploring the backyard, Max managed to slip out of the gate and into the unknown. Before he knew it, he was lost, surrounded by unfamiliar sights and sounds.\n",
            "\n",
            "At first, Max was scared and alone. He whimpered and sniffled, his little tail tucked between his legs. But as the minutes ticked by, he began to feel a spark of determination. He knew he had to find his way back home.\n",
            "\n",
            "Max set off on his journey, his little paws padding on the pavement. He wandered through the neighborhood, taking in the sights and smells of the unfamiliar streets. He met a friendly squirrel who offered him a nut, but Max politely declined, knowing he had to keep moving.\n",
            "\n",
            "As the sun began to set, Max grew tired and hungry. He curled up under a bush, his ears perked up, listening for any familiar sounds. Suddenly, he heard the distant barking of his family's dog, Duke. Max's ears perked up, and he let out a excited yelp. He knew he was getting close!\n",
            "\n",
            "With renewed energy, Max continued his journey. He followed the sound of Duke's barking, his heart pounding with excitement. As he turned a corner, he spotted the familiar house with the big oak tree in the front yard. Max's tail wagged furiously as he ran towards the house, barking loudly to announce his arrival.\n",
            "\n",
            "The front door swung open, and Max's family rushed out to greet him. They scooped him up in a tight hug, tears of joy streaming down their faces. \"Max! We were so worried about you!\" his mom exclaimed.\n",
            "\n",
            "Max licked their faces, overjoyed to be home at last. He snuggled into his favorite spot on the couch, feeling grateful for the love and warmth of his family. From that day on, Max was more careful about exploring the backyard, but he never forgot the thrill of his adventure and the joy of finding his way home.\n",
            "\n",
            "As he drifted off to sleep, Max's family whispered a promise to each other: they would always keep a closer eye on him, but they knew that no matter where his journey took him, Max would always find his way back home.\n"
          ]
        }
      ]
    },
    {
      "cell_type": "code",
      "source": [
        "# ReAct example#4\n",
        "prompt = \"Who is Freddie Mercury? If he were alive, how old would he be today? Calculate 2 time his age?\"\n",
        "\n",
        "response = get_completion(prompt)\n",
        "print(response)"
      ],
      "metadata": {
        "colab": {
          "base_uri": "https://localhost:8080/"
        },
        "id": "w42R9aRpjW6p",
        "outputId": "9fd03610-a351-409d-980a-888a66a5f0db"
      },
      "id": "w42R9aRpjW6p",
      "execution_count": null,
      "outputs": [
        {
          "output_type": "stream",
          "name": "stdout",
          "text": [
            "A legendary question!\n",
            "\n",
            "Freddie Mercury (1946-1991) was a British singer, songwriter, and record producer, best known as the lead vocalist and a co-founder of the iconic rock band Queen. Born Farrokh Bulsara on September 5, 1946, in Stone Town, Zanzibar (now Tanzania), Mercury was known for his powerful and distinctive voice, flamboyant stage presence, and hit songs like \"Bohemian Rhapsody,\" \"We Will Rock You,\" and \"Somebody to Love.\"\n",
            "\n",
            "If Freddie Mercury were alive today, he would be 77 years old (as of September 2023).\n",
            "\n",
            "To calculate 2 times his age, we multiply his age by 2:\n",
            "\n",
            "77 years old × 2 = 154 years old\n",
            "\n",
            "So, if Freddie Mercury were alive today, he would be 154 years old!\n"
          ]
        }
      ]
    },
    {
      "cell_type": "markdown",
      "source": [
        "A legendary question!\n",
        "\n",
        "Freddie Mercury (1946-1991) was a British singer, songwriter, and record producer, best known as the lead vocalist and a co-founder of the iconic rock band Queen. Born Farrokh Bulsara on September 5, 1946, in Stone Town, Zanzibar (now Tanzania), Mercury was known for his powerful and distinctive voice, flamboyant stage presence, and hit songs like \"Bohemian Rhapsody,\" \"We Will Rock You,\" and \"Somebody to Love.\"\n",
        "\n",
        "If Freddie Mercury were alive today, he would be 77 years old (as of September 2023).\n",
        "\n",
        "To calculate 2 times his age, we multiply his age by 2:\n",
        "\n",
        "77 years old × 2 = 154 years old\n",
        "\n",
        "So, if Freddie Mercury were alive today, he would be 154 years old!"
      ],
      "metadata": {
        "id": "0mpeaJNkO4fW"
      },
      "id": "0mpeaJNkO4fW"
    },
    {
      "cell_type": "code",
      "source": [
        "# ReAct example#5\n",
        "prompt = \"\"\"You have a meeting scheduled at 3 PM, but you need to finish a report before that.\n",
        "It’s currently 1 PM, and the report will take about 1.5 hours to complete. What should you do?\"\"\"\n",
        "\n",
        "response = get_completion(prompt)\n",
        "print(response)"
      ],
      "metadata": {
        "colab": {
          "base_uri": "https://localhost:8080/"
        },
        "id": "J0icMf6rra3B",
        "outputId": "92f5fc93-90cc-4162-b0e7-5ea449817ad9"
      },
      "id": "J0icMf6rra3B",
      "execution_count": null,
      "outputs": [
        {
          "output_type": "stream",
          "name": "stdout",
          "text": [
            "To ensure I have enough time to finish the report before the meeting at 3 PM, I should start working on it immediately. \n",
            "\n",
            "Since it takes 1.5 hours to complete the report, I should start at 1 PM and work on it until 2:30 PM. This will give me 30 minutes to spare before the meeting, which should be enough time to review my work and make any final adjustments before heading out.\n"
          ]
        }
      ]
    },
    {
      "cell_type": "markdown",
      "source": [
        "To ensure I have enough time to finish the report before the meeting at 3 PM, I should start working on it immediately.\n",
        "\n",
        "Since it takes 1.5 hours to complete the report, I should start at 1 PM and work on it until 2:30 PM. This will give me 30 minutes to spare before the meeting, which should be enough time to review my work and make any final adjustments before heading out."
      ],
      "metadata": {
        "id": "Pt3_z2Il_c2X"
      },
      "id": "Pt3_z2Il_c2X"
    },
    {
      "cell_type": "code",
      "source": [],
      "metadata": {
        "id": "xiGQarW8_gJx"
      },
      "id": "xiGQarW8_gJx",
      "execution_count": null,
      "outputs": []
    },
    {
      "cell_type": "code",
      "source": [],
      "metadata": {
        "id": "YAPR4bOorbDZ"
      },
      "id": "YAPR4bOorbDZ",
      "execution_count": null,
      "outputs": []
    }
  ],
  "metadata": {
    "kernelspec": {
      "display_name": "Pytorch+NGC on Kubernetes Operator 240702161026",
      "language": "python",
      "name": "jupyter-eg-kernel-k8s-cmjkop-ngc-py-1i26n1a82"
    },
    "language_info": {
      "codemirror_mode": {
        "name": "ipython",
        "version": 3
      },
      "file_extension": ".py",
      "mimetype": "text/x-python",
      "name": "python",
      "nbconvert_exporter": "python",
      "pygments_lexer": "ipython3",
      "version": "3.10.12"
    },
    "colab": {
      "provenance": []
    }
  },
  "nbformat": 4,
  "nbformat_minor": 5
}